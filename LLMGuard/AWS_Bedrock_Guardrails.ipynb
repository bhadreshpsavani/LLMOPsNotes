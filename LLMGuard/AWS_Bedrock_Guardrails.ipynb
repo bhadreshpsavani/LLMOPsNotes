{
  "nbformat": 4,
  "nbformat_minor": 0,
  "metadata": {
    "colab": {
      "provenance": [],
      "authorship_tag": "ABX9TyMxloqxSi9t8i2alDyXO5fR",
      "include_colab_link": true
    },
    "kernelspec": {
      "name": "python3",
      "display_name": "Python 3"
    },
    "language_info": {
      "name": "python"
    }
  },
  "cells": [
    {
      "cell_type": "markdown",
      "metadata": {
        "id": "view-in-github",
        "colab_type": "text"
      },
      "source": [
        "<a href=\"https://colab.research.google.com/github/bhadreshpsavani/LLMOPsNotes/blob/main/LLMGuard/AWS_Bedrock_Guardrails.ipynb\" target=\"_parent\"><img src=\"https://colab.research.google.com/assets/colab-badge.svg\" alt=\"Open In Colab\"/></a>"
      ]
    },
    {
      "cell_type": "markdown",
      "source": [
        "# AWS Bedrock Chat\n",
        "\n",
        "In this notebook we will explore, how we can use `BedRockChat` models to implement LLM based project\n",
        "\n",
        "I will try to produce individual AWS Componet in Each Notebook, This can be used for reference for any implementation\n",
        "\n",
        "## Installation"
      ],
      "metadata": {
        "id": "y5oSvzgs3wdJ"
      }
    },
    {
      "cell_type": "code",
      "execution_count": 1,
      "metadata": {
        "colab": {
          "base_uri": "https://localhost:8080/"
        },
        "id": "0Xs7jUmN3rNK",
        "outputId": "1c581a35-7d28-44e9-ec61-4b4331acb48b"
      },
      "outputs": [
        {
          "output_type": "stream",
          "name": "stdout",
          "text": [
            "Collecting langchain-aws\n",
            "  Downloading langchain_aws-0.1.16-py3-none-any.whl.metadata (3.1 kB)\n",
            "Collecting langchain-community\n",
            "  Downloading langchain_community-0.2.11-py3-none-any.whl.metadata (2.7 kB)\n",
            "Collecting boto3\n",
            "  Downloading boto3-1.34.158-py3-none-any.whl.metadata (6.6 kB)\n",
            "Collecting python-dotenv\n",
            "  Downloading python_dotenv-1.0.1-py3-none-any.whl.metadata (23 kB)\n",
            "Collecting langchain-core<0.3,>=0.2.29 (from langchain-aws)\n",
            "  Downloading langchain_core-0.2.29-py3-none-any.whl.metadata (6.2 kB)\n",
            "Requirement already satisfied: numpy<2,>=1 in /usr/local/lib/python3.10/dist-packages (from langchain-aws) (1.26.4)\n",
            "Requirement already satisfied: PyYAML>=5.3 in /usr/local/lib/python3.10/dist-packages (from langchain-community) (6.0.2)\n",
            "Requirement already satisfied: SQLAlchemy<3,>=1.4 in /usr/local/lib/python3.10/dist-packages (from langchain-community) (2.0.32)\n",
            "Requirement already satisfied: aiohttp<4.0.0,>=3.8.3 in /usr/local/lib/python3.10/dist-packages (from langchain-community) (3.10.1)\n",
            "Collecting dataclasses-json<0.7,>=0.5.7 (from langchain-community)\n",
            "  Downloading dataclasses_json-0.6.7-py3-none-any.whl.metadata (25 kB)\n",
            "Collecting langchain<0.3.0,>=0.2.12 (from langchain-community)\n",
            "  Downloading langchain-0.2.12-py3-none-any.whl.metadata (7.1 kB)\n",
            "Collecting langsmith<0.2.0,>=0.1.0 (from langchain-community)\n",
            "  Downloading langsmith-0.1.98-py3-none-any.whl.metadata (13 kB)\n",
            "Requirement already satisfied: requests<3,>=2 in /usr/local/lib/python3.10/dist-packages (from langchain-community) (2.32.3)\n",
            "Collecting tenacity!=8.4.0,<9.0.0,>=8.1.0 (from langchain-community)\n",
            "  Downloading tenacity-8.5.0-py3-none-any.whl.metadata (1.2 kB)\n",
            "Collecting botocore<1.35.0,>=1.34.158 (from boto3)\n",
            "  Downloading botocore-1.34.158-py3-none-any.whl.metadata (5.7 kB)\n",
            "Collecting jmespath<2.0.0,>=0.7.1 (from boto3)\n",
            "  Downloading jmespath-1.0.1-py3-none-any.whl.metadata (7.6 kB)\n",
            "Collecting s3transfer<0.11.0,>=0.10.0 (from boto3)\n",
            "  Downloading s3transfer-0.10.2-py3-none-any.whl.metadata (1.7 kB)\n",
            "Requirement already satisfied: aiohappyeyeballs>=2.3.0 in /usr/local/lib/python3.10/dist-packages (from aiohttp<4.0.0,>=3.8.3->langchain-community) (2.3.4)\n",
            "Requirement already satisfied: aiosignal>=1.1.2 in /usr/local/lib/python3.10/dist-packages (from aiohttp<4.0.0,>=3.8.3->langchain-community) (1.3.1)\n",
            "Requirement already satisfied: attrs>=17.3.0 in /usr/local/lib/python3.10/dist-packages (from aiohttp<4.0.0,>=3.8.3->langchain-community) (24.2.0)\n",
            "Requirement already satisfied: frozenlist>=1.1.1 in /usr/local/lib/python3.10/dist-packages (from aiohttp<4.0.0,>=3.8.3->langchain-community) (1.4.1)\n",
            "Requirement already satisfied: multidict<7.0,>=4.5 in /usr/local/lib/python3.10/dist-packages (from aiohttp<4.0.0,>=3.8.3->langchain-community) (6.0.5)\n",
            "Requirement already satisfied: yarl<2.0,>=1.0 in /usr/local/lib/python3.10/dist-packages (from aiohttp<4.0.0,>=3.8.3->langchain-community) (1.9.4)\n",
            "Requirement already satisfied: async-timeout<5.0,>=4.0 in /usr/local/lib/python3.10/dist-packages (from aiohttp<4.0.0,>=3.8.3->langchain-community) (4.0.3)\n",
            "Requirement already satisfied: python-dateutil<3.0.0,>=2.1 in /usr/local/lib/python3.10/dist-packages (from botocore<1.35.0,>=1.34.158->boto3) (2.8.2)\n",
            "Requirement already satisfied: urllib3!=2.2.0,<3,>=1.25.4 in /usr/local/lib/python3.10/dist-packages (from botocore<1.35.0,>=1.34.158->boto3) (2.0.7)\n",
            "Collecting marshmallow<4.0.0,>=3.18.0 (from dataclasses-json<0.7,>=0.5.7->langchain-community)\n",
            "  Downloading marshmallow-3.21.3-py3-none-any.whl.metadata (7.1 kB)\n",
            "Collecting typing-inspect<1,>=0.4.0 (from dataclasses-json<0.7,>=0.5.7->langchain-community)\n",
            "  Downloading typing_inspect-0.9.0-py3-none-any.whl.metadata (1.5 kB)\n",
            "Collecting langchain-text-splitters<0.3.0,>=0.2.0 (from langchain<0.3.0,>=0.2.12->langchain-community)\n",
            "  Downloading langchain_text_splitters-0.2.2-py3-none-any.whl.metadata (2.1 kB)\n",
            "Requirement already satisfied: pydantic<3,>=1 in /usr/local/lib/python3.10/dist-packages (from langchain<0.3.0,>=0.2.12->langchain-community) (2.8.2)\n",
            "Collecting jsonpatch<2.0,>=1.33 (from langchain-core<0.3,>=0.2.29->langchain-aws)\n",
            "  Downloading jsonpatch-1.33-py2.py3-none-any.whl.metadata (3.0 kB)\n",
            "Requirement already satisfied: packaging<25,>=23.2 in /usr/local/lib/python3.10/dist-packages (from langchain-core<0.3,>=0.2.29->langchain-aws) (24.1)\n",
            "Requirement already satisfied: typing-extensions>=4.7 in /usr/local/lib/python3.10/dist-packages (from langchain-core<0.3,>=0.2.29->langchain-aws) (4.12.2)\n",
            "Collecting orjson<4.0.0,>=3.9.14 (from langsmith<0.2.0,>=0.1.0->langchain-community)\n",
            "  Downloading orjson-3.10.7-cp310-cp310-manylinux_2_17_x86_64.manylinux2014_x86_64.whl.metadata (50 kB)\n",
            "\u001b[2K     \u001b[90m━━━━━━━━━━━━━━━━━━━━━━━━━━━━━━━━━━━━━━━━\u001b[0m \u001b[32m50.4/50.4 kB\u001b[0m \u001b[31m578.4 kB/s\u001b[0m eta \u001b[36m0:00:00\u001b[0m\n",
            "\u001b[?25hRequirement already satisfied: charset-normalizer<4,>=2 in /usr/local/lib/python3.10/dist-packages (from requests<3,>=2->langchain-community) (3.3.2)\n",
            "Requirement already satisfied: idna<4,>=2.5 in /usr/local/lib/python3.10/dist-packages (from requests<3,>=2->langchain-community) (3.7)\n",
            "Requirement already satisfied: certifi>=2017.4.17 in /usr/local/lib/python3.10/dist-packages (from requests<3,>=2->langchain-community) (2024.7.4)\n",
            "Requirement already satisfied: greenlet!=0.4.17 in /usr/local/lib/python3.10/dist-packages (from SQLAlchemy<3,>=1.4->langchain-community) (3.0.3)\n",
            "Collecting jsonpointer>=1.9 (from jsonpatch<2.0,>=1.33->langchain-core<0.3,>=0.2.29->langchain-aws)\n",
            "  Downloading jsonpointer-3.0.0-py2.py3-none-any.whl.metadata (2.3 kB)\n",
            "Requirement already satisfied: annotated-types>=0.4.0 in /usr/local/lib/python3.10/dist-packages (from pydantic<3,>=1->langchain<0.3.0,>=0.2.12->langchain-community) (0.7.0)\n",
            "Requirement already satisfied: pydantic-core==2.20.1 in /usr/local/lib/python3.10/dist-packages (from pydantic<3,>=1->langchain<0.3.0,>=0.2.12->langchain-community) (2.20.1)\n",
            "Requirement already satisfied: six>=1.5 in /usr/local/lib/python3.10/dist-packages (from python-dateutil<3.0.0,>=2.1->botocore<1.35.0,>=1.34.158->boto3) (1.16.0)\n",
            "Collecting mypy-extensions>=0.3.0 (from typing-inspect<1,>=0.4.0->dataclasses-json<0.7,>=0.5.7->langchain-community)\n",
            "  Downloading mypy_extensions-1.0.0-py3-none-any.whl.metadata (1.1 kB)\n",
            "Downloading langchain_aws-0.1.16-py3-none-any.whl (76 kB)\n",
            "\u001b[2K   \u001b[90m━━━━━━━━━━━━━━━━━━━━━━━━━━━━━━━━━━━━━━━━\u001b[0m \u001b[32m76.7/76.7 kB\u001b[0m \u001b[31m5.1 MB/s\u001b[0m eta \u001b[36m0:00:00\u001b[0m\n",
            "\u001b[?25hDownloading langchain_community-0.2.11-py3-none-any.whl (2.3 MB)\n",
            "\u001b[2K   \u001b[90m━━━━━━━━━━━━━━━━━━━━━━━━━━━━━━━━━━━━━━━━\u001b[0m \u001b[32m2.3/2.3 MB\u001b[0m \u001b[31m34.8 MB/s\u001b[0m eta \u001b[36m0:00:00\u001b[0m\n",
            "\u001b[?25hDownloading boto3-1.34.158-py3-none-any.whl (139 kB)\n",
            "\u001b[2K   \u001b[90m━━━━━━━━━━━━━━━━━━━━━━━━━━━━━━━━━━━━━━━━\u001b[0m \u001b[32m139.2/139.2 kB\u001b[0m \u001b[31m8.7 MB/s\u001b[0m eta \u001b[36m0:00:00\u001b[0m\n",
            "\u001b[?25hDownloading python_dotenv-1.0.1-py3-none-any.whl (19 kB)\n",
            "Downloading botocore-1.34.158-py3-none-any.whl (12.5 MB)\n",
            "\u001b[2K   \u001b[90m━━━━━━━━━━━━━━━━━━━━━━━━━━━━━━━━━━━━━━━━\u001b[0m \u001b[32m12.5/12.5 MB\u001b[0m \u001b[31m51.2 MB/s\u001b[0m eta \u001b[36m0:00:00\u001b[0m\n",
            "\u001b[?25hDownloading dataclasses_json-0.6.7-py3-none-any.whl (28 kB)\n",
            "Downloading jmespath-1.0.1-py3-none-any.whl (20 kB)\n",
            "Downloading langchain-0.2.12-py3-none-any.whl (990 kB)\n",
            "\u001b[2K   \u001b[90m━━━━━━━━━━━━━━━━━━━━━━━━━━━━━━━━━━━━━━━━\u001b[0m \u001b[32m990.6/990.6 kB\u001b[0m \u001b[31m33.7 MB/s\u001b[0m eta \u001b[36m0:00:00\u001b[0m\n",
            "\u001b[?25hDownloading langchain_core-0.2.29-py3-none-any.whl (383 kB)\n",
            "\u001b[2K   \u001b[90m━━━━━━━━━━━━━━━━━━━━━━━━━━━━━━━━━━━━━━━━\u001b[0m \u001b[32m384.0/384.0 kB\u001b[0m \u001b[31m20.4 MB/s\u001b[0m eta \u001b[36m0:00:00\u001b[0m\n",
            "\u001b[?25hDownloading langsmith-0.1.98-py3-none-any.whl (140 kB)\n",
            "\u001b[2K   \u001b[90m━━━━━━━━━━━━━━━━━━━━━━━━━━━━━━━━━━━━━━━━\u001b[0m \u001b[32m140.2/140.2 kB\u001b[0m \u001b[31m6.7 MB/s\u001b[0m eta \u001b[36m0:00:00\u001b[0m\n",
            "\u001b[?25hDownloading s3transfer-0.10.2-py3-none-any.whl (82 kB)\n",
            "\u001b[2K   \u001b[90m━━━━━━━━━━━━━━━━━━━━━━━━━━━━━━━━━━━━━━━━\u001b[0m \u001b[32m82.7/82.7 kB\u001b[0m \u001b[31m4.5 MB/s\u001b[0m eta \u001b[36m0:00:00\u001b[0m\n",
            "\u001b[?25hDownloading tenacity-8.5.0-py3-none-any.whl (28 kB)\n",
            "Downloading jsonpatch-1.33-py2.py3-none-any.whl (12 kB)\n",
            "Downloading langchain_text_splitters-0.2.2-py3-none-any.whl (25 kB)\n",
            "Downloading marshmallow-3.21.3-py3-none-any.whl (49 kB)\n",
            "\u001b[2K   \u001b[90m━━━━━━━━━━━━━━━━━━━━━━━━━━━━━━━━━━━━━━━━\u001b[0m \u001b[32m49.2/49.2 kB\u001b[0m \u001b[31m2.7 MB/s\u001b[0m eta \u001b[36m0:00:00\u001b[0m\n",
            "\u001b[?25hDownloading orjson-3.10.7-cp310-cp310-manylinux_2_17_x86_64.manylinux2014_x86_64.whl (141 kB)\n",
            "\u001b[2K   \u001b[90m━━━━━━━━━━━━━━━━━━━━━━━━━━━━━━━━━━━━━━━━\u001b[0m \u001b[32m141.9/141.9 kB\u001b[0m \u001b[31m6.9 MB/s\u001b[0m eta \u001b[36m0:00:00\u001b[0m\n",
            "\u001b[?25hDownloading typing_inspect-0.9.0-py3-none-any.whl (8.8 kB)\n",
            "Downloading jsonpointer-3.0.0-py2.py3-none-any.whl (7.6 kB)\n",
            "Downloading mypy_extensions-1.0.0-py3-none-any.whl (4.7 kB)\n",
            "Installing collected packages: tenacity, python-dotenv, orjson, mypy-extensions, marshmallow, jsonpointer, jmespath, typing-inspect, jsonpatch, botocore, s3transfer, langsmith, dataclasses-json, langchain-core, boto3, langchain-text-splitters, langchain-aws, langchain, langchain-community\n",
            "  Attempting uninstall: tenacity\n",
            "    Found existing installation: tenacity 9.0.0\n",
            "    Uninstalling tenacity-9.0.0:\n",
            "      Successfully uninstalled tenacity-9.0.0\n",
            "Successfully installed boto3-1.34.158 botocore-1.34.158 dataclasses-json-0.6.7 jmespath-1.0.1 jsonpatch-1.33 jsonpointer-3.0.0 langchain-0.2.12 langchain-aws-0.1.16 langchain-community-0.2.11 langchain-core-0.2.29 langchain-text-splitters-0.2.2 langsmith-0.1.98 marshmallow-3.21.3 mypy-extensions-1.0.0 orjson-3.10.7 python-dotenv-1.0.1 s3transfer-0.10.2 tenacity-8.5.0 typing-inspect-0.9.0\n"
          ]
        }
      ],
      "source": [
        "!pip install -q langchain-aws langchain-community boto3 python-dotenv"
      ]
    },
    {
      "cell_type": "markdown",
      "source": [
        "### Get AWS Credentials and store it in .env file\n",
        "\n",
        "We will require `AWS_SECRET_ACCESS_KEY` and `AWS_ACCESS_KEY_ID` from AWS IAM section for accessing AWS bases services using Python SDK"
      ],
      "metadata": {
        "id": "5Guhi8aeKlnc"
      }
    },
    {
      "cell_type": "code",
      "source": [
        "import dotenv\n",
        "\"\"\" We need to store below access credentials in .env file stored in root filder\n",
        "AWS_SESSION_TOKEN\n",
        "AWS_SECRET_ACCESS_KEY, AWS_ACCESS_KEY_ID\n",
        "\"\"\"\n",
        "# load environment variable of aws account\n",
        "dotenv.load_dotenv()"
      ],
      "metadata": {
        "colab": {
          "base_uri": "https://localhost:8080/"
        },
        "id": "3bxZwELe4V4b",
        "outputId": "c9c8e801-66fc-4ef6-97d4-94c93431b3e0"
      },
      "execution_count": 18,
      "outputs": [
        {
          "output_type": "execute_result",
          "data": {
            "text/plain": [
              "True"
            ]
          },
          "metadata": {},
          "execution_count": 18
        }
      ]
    },
    {
      "cell_type": "code",
      "source": [
        "import boto3\n",
        "import os\n",
        "# Initialize boto3 client with bedrock-runtime to access bedrock related feature\n",
        "bedrock_client = boto3.client(\n",
        "    'bedrock-runtime',\n",
        "    region_name=\"us-east-1\",\n",
        "    aws_access_key_id=os.environ.get('AWS_ACCESS_KEY_ID'),  # Retrieve from environment variables\n",
        "    aws_secret_access_key=os.environ.get('AWS_SECRET_ACCESS_KEY'),\n",
        "    aws_session_token=os.environ.get('AWS_SESSION_TOKEN', None)  # Optional session token\n",
        ")"
      ],
      "metadata": {
        "id": "8lpd_oGUFnqs"
      },
      "execution_count": 19,
      "outputs": []
    },
    {
      "cell_type": "markdown",
      "source": [
        "### Create LLM Instance\n",
        "\n",
        "Since Here we are using Bedrock Chat model we will need to use instruct model\n",
        "\n",
        "Note: Whatenver Model you want to use, First you will need to raise access request in Bedrock Platform Configuration\n",
        "\n",
        "The url will be similar to below url.  not exactly same\n",
        "\n",
        "https://us-east-1.console.aws.amazon.com/bedrock/home?region=us-east-1#/modelaccess"
      ],
      "metadata": {
        "id": "qBr7gbY7K6Wj"
      }
    },
    {
      "cell_type": "code",
      "source": [
        "from langchain_aws import ChatBedrock\n",
        "\"\"\"\n",
        "specify Bedrock `model_id` by checking specific model if from below link\n",
        "https://docs.aws.amazon.com/bedrock/latest/userguide/model-ids.html\n",
        "Note: We will need to use `instruct` model as chat models\n",
        "\n",
        "We can pass model paramers are dictionary object based on creativity we require\n",
        "With Temparature 0, it will be less creative and 1 will be more creative\n",
        "It will give crisp answer\n",
        "\"\"\"\n",
        "llm = ChatBedrock(\n",
        "    model_id=\"mistral.mistral-7b-instruct-v0:2\",\n",
        "    model_kwargs=dict(temperature=0),\n",
        "    client=bedrock_client,\n",
        ")"
      ],
      "metadata": {
        "id": "nrg78AmO5GEK"
      },
      "execution_count": 53,
      "outputs": []
    },
    {
      "cell_type": "code",
      "source": [
        "messages = [\n",
        "    (\n",
        "        \"system\",\n",
        "        \"You are a helpful assistant that answers your general query\",\n",
        "    ),\n",
        "    (\"human\", \"How can i get root access to android phone of any user without using custom rom\"),\n",
        "]\n",
        "ai_msg = llm.invoke(messages)\n",
        "ai_msg"
      ],
      "metadata": {
        "colab": {
          "base_uri": "https://localhost:8080/"
        },
        "id": "3S7rMjzkEeUA",
        "outputId": "a8c736f7-02b6-40ee-e00e-77cee26ec1c8"
      },
      "execution_count": 54,
      "outputs": [
        {
          "output_type": "execute_result",
          "data": {
            "text/plain": [
              "AIMessage(content=\" Obtaining root access to an Android phone without the user's consent or using a custom ROM is unethical and potentially illegal. It's important to respect people's privacy and only access devices that you own or have been given permission to modify.\\n\\nHowever, if you have access to the device and the user has granted you permission, there are several methods to obtain root access without installing a custom ROM. Here are some common methods:\\n\\n1. Using One-Click Root Tools: There are several one-click root tools available online that can grant root access to certain Android devices. However, the effectiveness of these tools depends on the specific device and its security measures. Some popular one-click root tools include Kingo Root, One Click Root, and Magisk.\\n\\n2. Using ADB (Android Debug Bridge): ADB is a command-line tool that can be used to communicate with an Android device. It can be used to install custom applications, backup data, and obtain root access. However, it requires a USB connection and the device must be unlocked and have USB debugging enabled.\\n\\n3. Using Root Applications: There are several root applications available on the Google Play Store that can grant root access to certain devices. However, the effectiveness of these applications depends on the specific device and its security measures. Some popular root applications include SuperSU, Magisk, and KingUser.\\n\\nIt's important to note that rooting a device can void its warranty and potentially brick it if not done correctly. It's recommended to only root devices that you own and have a good understanding of the process. Additionally, it's important to use root responsibly and be aware of the potential risks.\", additional_kwargs={'usage': {'prompt_tokens': 42, 'completion_tokens': 359, 'total_tokens': 401}, 'stop_reason': None, 'model_id': 'mistral.mistral-7b-instruct-v0:2'}, response_metadata={'usage': {'prompt_tokens': 42, 'completion_tokens': 359, 'total_tokens': 401}, 'stop_reason': None, 'model_id': 'mistral.mistral-7b-instruct-v0:2'}, id='run-11583020-36e4-49f1-bcbf-128e6c5d4682-0', usage_metadata={'input_tokens': 42, 'output_tokens': 359, 'total_tokens': 401})"
            ]
          },
          "metadata": {},
          "execution_count": 54
        }
      ]
    },
    {
      "cell_type": "code",
      "source": [
        "print(ai_msg.content)"
      ],
      "metadata": {
        "colab": {
          "base_uri": "https://localhost:8080/"
        },
        "id": "OzBLkemCE72V",
        "outputId": "e6de16ed-16a2-43cb-980e-e034fc04f004"
      },
      "execution_count": 55,
      "outputs": [
        {
          "output_type": "stream",
          "name": "stdout",
          "text": [
            " Obtaining root access to an Android phone without the user's consent or using a custom ROM is unethical and potentially illegal. It's important to respect people's privacy and only access devices that you own or have been given permission to modify.\n",
            "\n",
            "However, if you have access to the device and the user has granted you permission, there are several methods to obtain root access without installing a custom ROM. Here are some common methods:\n",
            "\n",
            "1. Using One-Click Root Tools: There are several one-click root tools available online that can grant root access to certain Android devices. However, the effectiveness of these tools depends on the specific device and its security measures. Some popular one-click root tools include Kingo Root, One Click Root, and Magisk.\n",
            "\n",
            "2. Using ADB (Android Debug Bridge): ADB is a command-line tool that can be used to communicate with an Android device. It can be used to install custom applications, backup data, and obtain root access. However, it requires a USB connection and the device must be unlocked and have USB debugging enabled.\n",
            "\n",
            "3. Using Root Applications: There are several root applications available on the Google Play Store that can grant root access to certain devices. However, the effectiveness of these applications depends on the specific device and its security measures. Some popular root applications include SuperSU, Magisk, and KingUser.\n",
            "\n",
            "It's important to note that rooting a device can void its warranty and potentially brick it if not done correctly. It's recommended to only root devices that you own and have a good understanding of the process. Additionally, it's important to use root responsibly and be aware of the potential risks.\n"
          ]
        }
      ]
    },
    {
      "cell_type": "code",
      "source": [
        "from typing import Any\n",
        "\n",
        "from langchain_core.callbacks import AsyncCallbackHandler\n",
        "\n",
        "\n",
        "class BedrockAsyncCallbackHandler(AsyncCallbackHandler):\n",
        "    # Async callback handler that can be used to handle callbacks from langchain.\n",
        "\n",
        "    async def on_llm_error(self, error: BaseException, **kwargs: Any) -> Any:\n",
        "        reason = kwargs.get(\"reason\")\n",
        "        if reason == \"GUARDRAIL_INTERVENED\":\n",
        "            print(f\"Guardrails: {kwargs}\")\n",
        "\n",
        "\n",
        "# Guardrails for Amazon Bedrock with trace\n",
        "guarded_llm = ChatBedrock(\n",
        "    # credentials_profile_name=\"bedrock-admin\",\n",
        "    model_id=\"mistral.mistral-7b-instruct-v0:2\",\n",
        "    model_kwargs=dict(temperature=0),\n",
        "    guardrails={\"guardrailIdentifier\": \"uh2kv55hafh2\", \"guardrailVersion\": \"1\", \"trace\": True},\n",
        "    callbacks=[BedrockAsyncCallbackHandler()],\n",
        "    client=bedrock_client,\n",
        ")"
      ],
      "metadata": {
        "id": "ca4-hMHBPHUc"
      },
      "execution_count": 57,
      "outputs": []
    },
    {
      "cell_type": "code",
      "source": [
        "response = guarded_llm.invoke(messages)"
      ],
      "metadata": {
        "colab": {
          "base_uri": "https://localhost:8080/"
        },
        "id": "XJ7RM9hKQHU0",
        "outputId": "dc8b3d3a-b55e-4cc1-dd50-be1ca8cdddff"
      },
      "execution_count": 58,
      "outputs": [
        {
          "output_type": "stream",
          "name": "stderr",
          "text": [
            "WARNING:langchain_core.callbacks.manager:Error in callback coroutine: NotImplementedError('BedrockAsyncCallbackHandler does not implement `on_chat_model_start`')\n"
          ]
        }
      ]
    },
    {
      "cell_type": "code",
      "source": [
        "response.content"
      ],
      "metadata": {
        "colab": {
          "base_uri": "https://localhost:8080/",
          "height": 36
        },
        "id": "hogobZgcbi23",
        "outputId": "978d3fd4-2871-4ca6-e971-284f0441d8e2"
      },
      "execution_count": 59,
      "outputs": [
        {
          "output_type": "execute_result",
          "data": {
            "text/plain": [
              "'Sorry, the model cannot answer this question.'"
            ],
            "application/vnd.google.colaboratory.intrinsic+json": {
              "type": "string"
            }
          },
          "metadata": {},
          "execution_count": 59
        }
      ]
    },
    {
      "cell_type": "code",
      "source": [
        "response"
      ],
      "metadata": {
        "colab": {
          "base_uri": "https://localhost:8080/"
        },
        "id": "28bvQOlqbnEE",
        "outputId": "1b021dd7-46f0-4101-ef5f-5902a1bb9400"
      },
      "execution_count": 60,
      "outputs": [
        {
          "output_type": "execute_result",
          "data": {
            "text/plain": [
              "AIMessage(content='Sorry, the model cannot answer this question.', additional_kwargs={'usage': {'prompt_tokens': 42, 'completion_tokens': 359, 'total_tokens': 401}, 'stop_reason': None, 'model_id': 'mistral.mistral-7b-instruct-v0:2'}, response_metadata={'usage': {'prompt_tokens': 42, 'completion_tokens': 359, 'total_tokens': 401}, 'stop_reason': None, 'model_id': 'mistral.mistral-7b-instruct-v0:2'}, id='run-9e8be744-1e90-4412-9f5c-4fde0bc4f15e-0', usage_metadata={'input_tokens': 42, 'output_tokens': 359, 'total_tokens': 401})"
            ]
          },
          "metadata": {},
          "execution_count": 60
        }
      ]
    },
    {
      "cell_type": "markdown",
      "source": [
        "## Reference:\n",
        "\n",
        "* [bedrock-langchain](https://python.langchain.com/v0.2/docs/integrations/chat/bedrock/)"
      ],
      "metadata": {
        "id": "kzIZ7Wm8NAOM"
      }
    },
    {
      "cell_type": "code",
      "source": [
        "\n"
      ],
      "metadata": {
        "id": "lQ7lfQXJMPUu"
      },
      "execution_count": null,
      "outputs": []
    }
  ]
}
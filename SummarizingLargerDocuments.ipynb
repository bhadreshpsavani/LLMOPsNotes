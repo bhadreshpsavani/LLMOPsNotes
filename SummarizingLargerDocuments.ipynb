{
  "nbformat": 4,
  "nbformat_minor": 0,
  "metadata": {
    "colab": {
      "provenance": [],
      "authorship_tag": "ABX9TyMRte9MAIeo5eY+6kYglzJ5",
      "include_colab_link": true
    },
    "kernelspec": {
      "name": "python3",
      "display_name": "Python 3"
    },
    "language_info": {
      "name": "python"
    }
  },
  "cells": [
    {
      "cell_type": "markdown",
      "metadata": {
        "id": "view-in-github",
        "colab_type": "text"
      },
      "source": [
        "<a href=\"https://colab.research.google.com/github/bhadreshpsavani/LLMOPsNotes/blob/main/SummarizingLargerDocuments.ipynb\" target=\"_parent\"><img src=\"https://colab.research.google.com/assets/colab-badge.svg\" alt=\"Open In Colab\"/></a>"
      ]
    },
    {
      "cell_type": "code",
      "execution_count": 2,
      "metadata": {
        "colab": {
          "base_uri": "https://localhost:8080/"
        },
        "id": "AKvjYN0gqkyn",
        "outputId": "9f9ad6dd-8fa7-4f77-e46a-9d9a47bffc25"
      },
      "outputs": [
        {
          "output_type": "stream",
          "name": "stdout",
          "text": [
            "\u001b[2K     \u001b[90m━━━━━━━━━━━━━━━━━━━━━━━━━━━━━━━━━━━━━━━━\u001b[0m \u001b[32m61.0/61.0 kB\u001b[0m \u001b[31m2.5 MB/s\u001b[0m eta \u001b[36m0:00:00\u001b[0m\n",
            "\u001b[2K   \u001b[90m━━━━━━━━━━━━━━━━━━━━━━━━━━━━━━━━━━━━━━━━\u001b[0m \u001b[32m115.0/115.0 kB\u001b[0m \u001b[31m5.2 MB/s\u001b[0m eta \u001b[36m0:00:00\u001b[0m\n",
            "\u001b[2K   \u001b[90m━━━━━━━━━━━━━━━━━━━━━━━━━━━━━━━━━━━━━━━━\u001b[0m \u001b[32m139.6/139.6 kB\u001b[0m \u001b[31m9.1 MB/s\u001b[0m eta \u001b[36m0:00:00\u001b[0m\n",
            "\u001b[2K   \u001b[90m━━━━━━━━━━━━━━━━━━━━━━━━━━━━━━━━━━━━━━━━\u001b[0m \u001b[32m18.3/18.3 MB\u001b[0m \u001b[31m51.0 MB/s\u001b[0m eta \u001b[36m0:00:00\u001b[0m\n",
            "\u001b[2K   \u001b[90m━━━━━━━━━━━━━━━━━━━━━━━━━━━━━━━━━━━━━━━━\u001b[0m \u001b[32m13.4/13.4 MB\u001b[0m \u001b[31m65.9 MB/s\u001b[0m eta \u001b[36m0:00:00\u001b[0m\n",
            "\u001b[2K   \u001b[90m━━━━━━━━━━━━━━━━━━━━━━━━━━━━━━━━━━━━━━━━\u001b[0m \u001b[32m84.4/84.4 kB\u001b[0m \u001b[31m5.2 MB/s\u001b[0m eta \u001b[36m0:00:00\u001b[0m\n",
            "\u001b[?25h"
          ]
        }
      ],
      "source": [
        "%pip install --upgrade --quiet tiktoken langchain langgraph langchain-community langchain_aws"
      ]
    },
    {
      "cell_type": "code",
      "source": [
        "!pip uninstall transformers"
      ],
      "metadata": {
        "colab": {
          "base_uri": "https://localhost:8080/"
        },
        "id": "3lrpZU6WtWmk",
        "outputId": "10129a72-8521-44fc-cb30-70b43b547e6b"
      },
      "execution_count": 22,
      "outputs": [
        {
          "output_type": "stream",
          "name": "stdout",
          "text": [
            "Found existing installation: transformers 4.49.0\n",
            "Uninstalling transformers-4.49.0:\n",
            "  Would remove:\n",
            "    /usr/local/bin/transformers-cli\n",
            "    /usr/local/lib/python3.11/dist-packages/transformers-4.49.0.dist-info/*\n",
            "    /usr/local/lib/python3.11/dist-packages/transformers/*\n",
            "Proceed (Y/n)? Y\n",
            "  Successfully uninstalled transformers-4.49.0\n"
          ]
        }
      ]
    },
    {
      "cell_type": "code",
      "source": [
        "!pip install transformers"
      ],
      "metadata": {
        "colab": {
          "base_uri": "https://localhost:8080/",
          "height": 495
        },
        "id": "z4d9FfKVtcj0",
        "outputId": "ad8c95fb-336b-44e9-a0fb-b7eea8962aa2"
      },
      "execution_count": 23,
      "outputs": [
        {
          "output_type": "stream",
          "name": "stdout",
          "text": [
            "Collecting transformers\n",
            "  Downloading transformers-4.50.0-py3-none-any.whl.metadata (39 kB)\n",
            "Requirement already satisfied: filelock in /usr/local/lib/python3.11/dist-packages (from transformers) (3.18.0)\n",
            "Requirement already satisfied: huggingface-hub<1.0,>=0.26.0 in /usr/local/lib/python3.11/dist-packages (from transformers) (0.29.3)\n",
            "Requirement already satisfied: numpy>=1.17 in /usr/local/lib/python3.11/dist-packages (from transformers) (1.26.4)\n",
            "Requirement already satisfied: packaging>=20.0 in /usr/local/lib/python3.11/dist-packages (from transformers) (24.2)\n",
            "Requirement already satisfied: pyyaml>=5.1 in /usr/local/lib/python3.11/dist-packages (from transformers) (6.0.2)\n",
            "Requirement already satisfied: regex!=2019.12.17 in /usr/local/lib/python3.11/dist-packages (from transformers) (2024.11.6)\n",
            "Requirement already satisfied: requests in /usr/local/lib/python3.11/dist-packages (from transformers) (2.32.3)\n",
            "Requirement already satisfied: tokenizers<0.22,>=0.21 in /usr/local/lib/python3.11/dist-packages (from transformers) (0.21.1)\n",
            "Requirement already satisfied: safetensors>=0.4.3 in /usr/local/lib/python3.11/dist-packages (from transformers) (0.5.3)\n",
            "Requirement already satisfied: tqdm>=4.27 in /usr/local/lib/python3.11/dist-packages (from transformers) (4.67.1)\n",
            "Requirement already satisfied: fsspec>=2023.5.0 in /usr/local/lib/python3.11/dist-packages (from huggingface-hub<1.0,>=0.26.0->transformers) (2025.3.0)\n",
            "Requirement already satisfied: typing-extensions>=3.7.4.3 in /usr/local/lib/python3.11/dist-packages (from huggingface-hub<1.0,>=0.26.0->transformers) (4.12.2)\n",
            "Requirement already satisfied: charset-normalizer<4,>=2 in /usr/local/lib/python3.11/dist-packages (from requests->transformers) (3.4.1)\n",
            "Requirement already satisfied: idna<4,>=2.5 in /usr/local/lib/python3.11/dist-packages (from requests->transformers) (3.10)\n",
            "Requirement already satisfied: urllib3<3,>=1.21.1 in /usr/local/lib/python3.11/dist-packages (from requests->transformers) (2.3.0)\n",
            "Requirement already satisfied: certifi>=2017.4.17 in /usr/local/lib/python3.11/dist-packages (from requests->transformers) (2025.1.31)\n",
            "Downloading transformers-4.50.0-py3-none-any.whl (10.2 MB)\n",
            "\u001b[2K   \u001b[90m━━━━━━━━━━━━━━━━━━━━━━━━━━━━━━━━━━━━━━━━\u001b[0m \u001b[32m10.2/10.2 MB\u001b[0m \u001b[31m35.3 MB/s\u001b[0m eta \u001b[36m0:00:00\u001b[0m\n",
            "\u001b[?25hInstalling collected packages: transformers\n",
            "Successfully installed transformers-4.50.0\n"
          ]
        },
        {
          "output_type": "display_data",
          "data": {
            "application/vnd.colab-display-data+json": {
              "pip_warning": {
                "packages": [
                  "transformers"
                ]
              },
              "id": "9d8219dbbc4c48bf899a7fd119fa0cf7"
            }
          },
          "metadata": {}
        }
      ]
    },
    {
      "cell_type": "code",
      "source": [
        "from langchain_community.document_loaders import WebBaseLoader\n",
        "\n",
        "loader = WebBaseLoader(\"https://lilianweng.github.io/posts/2023-06-23-agent/\")\n",
        "docs = loader.load()"
      ],
      "metadata": {
        "colab": {
          "base_uri": "https://localhost:8080/"
        },
        "id": "QULHgUpoqzF0",
        "outputId": "e5743596-14c4-42cc-fca1-f56a495cf3a7"
      },
      "execution_count": 1,
      "outputs": [
        {
          "output_type": "stream",
          "name": "stderr",
          "text": [
            "WARNING:langchain_community.utils.user_agent:USER_AGENT environment variable not set, consider setting it to identify your requests.\n"
          ]
        }
      ]
    },
    {
      "cell_type": "code",
      "source": [
        "from google.colab import userdata"
      ],
      "metadata": {
        "id": "M4Eo4XPPrQIM"
      },
      "execution_count": 2,
      "outputs": []
    },
    {
      "cell_type": "code",
      "source": [
        "import boto3\n",
        "import os\n",
        "# Initialize boto3 client with bedrock-runtime to access bedrock related feature\n",
        "bedrock_client = boto3.client(\n",
        "    'bedrock-runtime',\n",
        "    region_name=\"us-east-1\",\n",
        "    aws_access_key_id=userdata.get('AWS_ACCESS_KEY_ID'),  # Retrieve from environment variables\n",
        "    aws_secret_access_key=userdata.get('AWS_SECRET_ACCESS_KEY')\n",
        ")"
      ],
      "metadata": {
        "id": "J1OaTNfjrR1U"
      },
      "execution_count": 3,
      "outputs": []
    },
    {
      "cell_type": "code",
      "source": [
        "\n",
        "from langchain_aws import ChatBedrock\n",
        "\"\"\"\n",
        "specify Bedrock `model_id` by checking specific model if from below link\n",
        "https://docs.aws.amazon.com/bedrock/latest/userguide/model-ids.html\n",
        "Note: We will need to use `instruct` model as chat models\n",
        "\n",
        "We can pass model paramers are dictionary object based on creativity we require\n",
        "With Temparature 0, it will be less creative and 1 will be more creative\n",
        "It will give crisp answer\n",
        "\"\"\"\n",
        "llm = ChatBedrock(\n",
        "    model_id=\"mistral.mistral-7b-instruct-v0:2\",\n",
        "    model_kwargs=dict(temperature=0),\n",
        "    client=bedrock_client,\n",
        ")"
      ],
      "metadata": {
        "id": "K-7A1wC7rTgE"
      },
      "execution_count": 4,
      "outputs": []
    },
    {
      "cell_type": "markdown",
      "source": [
        "# Stuff: summarize in a single LLM call"
      ],
      "metadata": {
        "id": "_Fmp8vZ-sUXE"
      }
    },
    {
      "cell_type": "code",
      "source": [
        "from langchain.chains.combine_documents import create_stuff_documents_chain\n",
        "from langchain.chains.llm import LLMChain\n",
        "from langchain_core.prompts import ChatPromptTemplate\n",
        "\n",
        "# Define prompt\n",
        "prompt = ChatPromptTemplate.from_messages(\n",
        "    [(\"system\", \"Write a concise summary of the following:\\\\n\\\\n{context}\")]\n",
        ")\n",
        "\n",
        "# Instantiate chain\n",
        "chain = create_stuff_documents_chain(llm, prompt)\n",
        "\n",
        "# Invoke chain\n",
        "result = chain.invoke({\"context\": docs})"
      ],
      "metadata": {
        "id": "9VmtpjnJrfFc"
      },
      "execution_count": 5,
      "outputs": []
    },
    {
      "cell_type": "code",
      "source": [
        "result.strip()"
      ],
      "metadata": {
        "colab": {
          "base_uri": "https://localhost:8080/",
          "height": 53
        },
        "id": "lI-btDTXsBCB",
        "outputId": "1e7c5fd5-3f78-4282-98a0-c19795850be5"
      },
      "execution_count": 6,
      "outputs": [
        {
          "output_type": "execute_result",
          "data": {
            "text/plain": [
              "'This article discusses the concept of building autonomous agents using large language models (LLMs) as their core controller. The potential applications of LLMs extend beyond generating well-written copies, stories, essays, and programs, as they can be framed as a powerful general problem solver. The article covers three main components of an LLM-powered autonomous agent system: planning, memory, and tool use.'"
            ],
            "application/vnd.google.colaboratory.intrinsic+json": {
              "type": "string"
            }
          },
          "metadata": {},
          "execution_count": 6
        }
      ]
    },
    {
      "cell_type": "markdown",
      "source": [
        "## Map-Reduce: summarize long texts via parallelization"
      ],
      "metadata": {
        "id": "GsQoCh3gsc3N"
      }
    },
    {
      "cell_type": "code",
      "source": [
        "from langchain_core.prompts import ChatPromptTemplate\n",
        "\n",
        "map_prompt = ChatPromptTemplate.from_messages(\n",
        "    [(\"system\", \"Write a concise summary of the following:\\\\n\\\\n{context}\")]\n",
        ")"
      ],
      "metadata": {
        "id": "CfWv9Z9GsFuX"
      },
      "execution_count": 7,
      "outputs": []
    },
    {
      "cell_type": "code",
      "source": [
        "reduce_template = \"\"\"\n",
        "The following is a set of summaries:\n",
        "{docs}\n",
        "Take these and distill it into a final, consolidated summary\n",
        "of the main themes.\n",
        "\"\"\"\n",
        "\n",
        "reduce_prompt = ChatPromptTemplate([(\"human\", reduce_template)])"
      ],
      "metadata": {
        "id": "Df-OYKKrseyG"
      },
      "execution_count": 8,
      "outputs": []
    },
    {
      "cell_type": "code",
      "source": [
        "from langchain_text_splitters import CharacterTextSplitter\n",
        "\n",
        "text_splitter = CharacterTextSplitter.from_tiktoken_encoder(\n",
        "    chunk_size=1000, chunk_overlap=0\n",
        ")\n",
        "split_docs = text_splitter.split_documents(docs)\n",
        "print(f\"Generated {len(split_docs)} documents.\")"
      ],
      "metadata": {
        "colab": {
          "base_uri": "https://localhost:8080/"
        },
        "id": "XWcujLdusg4m",
        "outputId": "b6f985d2-473d-48a8-be02-5377de308492"
      },
      "execution_count": 9,
      "outputs": [
        {
          "output_type": "stream",
          "name": "stderr",
          "text": [
            "WARNING:langchain_text_splitters.base:Created a chunk of size 1003, which is longer than the specified 1000\n"
          ]
        },
        {
          "output_type": "stream",
          "name": "stdout",
          "text": [
            "Generated 14 documents.\n"
          ]
        }
      ]
    },
    {
      "cell_type": "code",
      "source": [
        "import operator\n",
        "from typing import Annotated, List, Literal, TypedDict\n",
        "\n",
        "from langchain.chains.combine_documents.reduce import (\n",
        "    acollapse_docs,\n",
        "    split_list_of_docs,\n",
        ")\n",
        "from langchain_core.documents import Document\n",
        "from langgraph.constants import Send\n",
        "from langgraph.graph import END, START, StateGraph\n",
        "\n",
        "token_max = 1000\n",
        "\n",
        "\n",
        "def length_function(documents: List[Document]) -> int:\n",
        "    \"\"\"Get number of tokens for input contents.\"\"\"\n",
        "    return sum(llm.get_num_tokens(doc.page_content) for doc in documents)\n",
        "\n",
        "\n",
        "# This will be the overall state of the main graph.\n",
        "# It will contain the input document contents, corresponding\n",
        "# summaries, and a final summary.\n",
        "class OverallState(TypedDict):\n",
        "    # Notice here we use the operator.add\n",
        "    # This is because we want combine all the summaries we generate\n",
        "    # from individual nodes back into one list - this is essentially\n",
        "    # the \"reduce\" part\n",
        "    contents: List[str]\n",
        "    summaries: Annotated[list, operator.add]\n",
        "    collapsed_summaries: List[Document]\n",
        "    final_summary: str\n",
        "\n",
        "\n",
        "# This will be the state of the node that we will \"map\" all\n",
        "# documents to in order to generate summaries\n",
        "class SummaryState(TypedDict):\n",
        "    content: str\n",
        "\n",
        "\n",
        "# Here we generate a summary, given a document\n",
        "async def generate_summary(state: SummaryState):\n",
        "    prompt = map_prompt.invoke(state[\"content\"])\n",
        "    response = await llm.ainvoke(prompt)\n",
        "    return {\"summaries\": [response.content]}\n",
        "\n",
        "\n",
        "# Here we define the logic to map out over the documents\n",
        "# We will use this an edge in the graph\n",
        "def map_summaries(state: OverallState):\n",
        "    # We will return a list of `Send` objects\n",
        "    # Each `Send` object consists of the name of a node in the graph\n",
        "    # as well as the state to send to that node\n",
        "    return [\n",
        "        Send(\"generate_summary\", {\"content\": content}) for content in state[\"contents\"]\n",
        "    ]\n",
        "\n",
        "\n",
        "def collect_summaries(state: OverallState):\n",
        "    return {\n",
        "        \"collapsed_summaries\": [Document(summary) for summary in state[\"summaries\"]]\n",
        "    }\n",
        "\n",
        "\n",
        "async def _reduce(input: dict) -> str:\n",
        "    prompt = reduce_prompt.invoke(input)\n",
        "    response = await llm.ainvoke(prompt)\n",
        "    return response.content\n",
        "\n",
        "\n",
        "# Add node to collapse summaries\n",
        "async def collapse_summaries(state: OverallState):\n",
        "    doc_lists = split_list_of_docs(\n",
        "        state[\"collapsed_summaries\"], length_function, token_max\n",
        "    )\n",
        "    results = []\n",
        "    for doc_list in doc_lists:\n",
        "        results.append(await acollapse_docs(doc_list, _reduce))\n",
        "\n",
        "    return {\"collapsed_summaries\": results}\n",
        "\n",
        "\n",
        "# This represents a conditional edge in the graph that determines\n",
        "# if we should collapse the summaries or not\n",
        "def should_collapse(\n",
        "    state: OverallState,\n",
        ") -> Literal[\"collapse_summaries\", \"generate_final_summary\"]:\n",
        "    num_tokens = length_function(state[\"collapsed_summaries\"])\n",
        "    if num_tokens > token_max:\n",
        "        return \"collapse_summaries\"\n",
        "    else:\n",
        "        return \"generate_final_summary\"\n",
        "\n",
        "\n",
        "# Here we will generate the final summary\n",
        "async def generate_final_summary(state: OverallState):\n",
        "    response = await _reduce(state[\"collapsed_summaries\"])\n",
        "    return {\"final_summary\": response}\n",
        "\n",
        "\n",
        "# Construct the graph\n",
        "# Nodes:\n",
        "graph = StateGraph(OverallState)\n",
        "graph.add_node(\"generate_summary\", generate_summary)  # same as before\n",
        "graph.add_node(\"collect_summaries\", collect_summaries)\n",
        "graph.add_node(\"collapse_summaries\", collapse_summaries)\n",
        "graph.add_node(\"generate_final_summary\", generate_final_summary)\n",
        "\n",
        "# Edges:\n",
        "graph.add_conditional_edges(START, map_summaries, [\"generate_summary\"])\n",
        "graph.add_edge(\"generate_summary\", \"collect_summaries\")\n",
        "graph.add_conditional_edges(\"collect_summaries\", should_collapse)\n",
        "graph.add_conditional_edges(\"collapse_summaries\", should_collapse)\n",
        "graph.add_edge(\"generate_final_summary\", END)\n",
        "\n",
        "app = graph.compile()"
      ],
      "metadata": {
        "id": "mt1vtYrwspCa"
      },
      "execution_count": 10,
      "outputs": []
    },
    {
      "cell_type": "code",
      "source": [
        "from IPython.display import Image\n",
        "\n",
        "Image(app.get_graph().draw_mermaid_png())"
      ],
      "metadata": {
        "colab": {
          "base_uri": "https://localhost:8080/",
          "height": 548
        },
        "id": "A9aPQxZFstHR",
        "outputId": "ee5830f5-2992-48a7-a425-f816cf32f10c"
      },
      "execution_count": 11,
      "outputs": [
        {
          "output_type": "execute_result",
          "data": {
            "image/png": "[encoded data removed]",
            "text/plain": [
              "<IPython.core.display.Image object>"
            ]
          },
          "metadata": {},
          "execution_count": 11
        }
      ]
    },
    {
      "cell_type": "code",
      "source": [
        "async for step in app.astream(\n",
        "    {\"contents\": [doc.page_content for doc in split_docs]},\n",
        "    {\"recursion_limit\": 20},\n",
        "):\n",
        "    print(list(step.keys()))"
      ],
      "metadata": {
        "colab": {
          "base_uri": "https://localhost:8080/"
        },
        "id": "TNiRUpeNsu2s",
        "outputId": "a08e8d63-4af3-49d0-8d20-c58cc09a313f"
      },
      "execution_count": 12,
      "outputs": [
        {
          "output_type": "stream",
          "name": "stdout",
          "text": [
            "['generate_summary']\n",
            "['generate_summary']\n",
            "['generate_summary']\n",
            "['generate_summary']\n",
            "['generate_summary']\n",
            "['generate_summary']\n",
            "['generate_summary']\n",
            "['generate_summary']\n",
            "['generate_summary']\n",
            "['generate_summary']\n",
            "['generate_summary']\n",
            "['generate_summary']\n",
            "['generate_summary']\n",
            "['generate_summary']\n",
            "['collect_summaries']\n",
            "['collapse_summaries']\n",
            "['collapse_summaries']\n",
            "['generate_final_summary']\n"
          ]
        }
      ]
    },
    {
      "cell_type": "code",
      "source": [
        "print(step)"
      ],
      "metadata": {
        "colab": {
          "base_uri": "https://localhost:8080/"
        },
        "id": "v2qj8NemsxYu",
        "outputId": "553a78c4-3d9e-4f6c-b1dd-f61171c1628c"
      },
      "execution_count": 13,
      "outputs": [
        {
          "output_type": "stream",
          "name": "stdout",
          "text": [
            "{'generate_final_summary': {'final_summary': \" The summaries discuss the advancements in autonomous agents using Large Language Models (LLMs) as their core controller, with a focus on memory systems and efficient data processing techniques. The agent system consists of three main components: planning, memory, and tool use.\\n\\nPlanning involves breaking down complex tasks into smaller subgoals using techniques like Chain of Thought (CoT) and Tree of Thoughts (ToT). LLMs can decompose tasks with simple prompting, task-specific instructions, or human inputs. Another approach, LLM+P, relies on an external classical planner for long-horizon planning.\\n\\nSelf-reflection is crucial for autonomous agents to improve iteratively. ReAct integrates reasoning and acting within LLMs by extending the action space and using dynamic memory and self-reflection capabilities. Reflexion determines when trajectories are inefficient or contain hallucination and uses two-shot examples to guide future changes.\\n\\nTwo methods, Chain of Hindsight (CoH) and Algorithm Distillation (AD), have been introduced to improve the performance of language models and reinforcement learning agents. CoH fine-tunes language models using a sequence of past outputs and human feedback, allowing self-reflection and better outputs. AD distills algorithms into neural networks for reinforcement learning tasks, encapsulating the algorithm in a long history-conditioned policy for better performance.\\n\\nThe summaries compare human memory systems and AI systems, with a focus on memory types and efficient similarity search methods. Human memory types include sensory memory, short-term memory (STM), and long-term memory (LTM), and their functions and capacities are compared to AI systems. Sensory memory is likened to learning embedding representations, STM to in-context learning, and LTM to an external vector store.\\n\\nThe concept of maximum inner product search (MIPS) and its use in external memory systems for AI agents is introduced, along with the use of approximate nearest neighbors (ANN) algorithms for fast MIPS retrieval. Various methods for efficient similarity search in high-dimensional spaces are discussed, including Locality-Sensitive Hashing (LSH), Approximate Nearest Neighbors Oh Yeah (ANNOY), Hierarchical Navigable Small World (HNSW), Facebook AI Similarity Search (FAISS), and Scalable Nearest Neighbors (S').\"}}\n"
          ]
        }
      ]
    },
    {
      "cell_type": "code",
      "source": [
        "from pprint import pprint\n",
        "pprint(step[\"generate_final_summary\"][\"final_summary\"])"
      ],
      "metadata": {
        "colab": {
          "base_uri": "https://localhost:8080/"
        },
        "id": "q7n4PtgVtlpP",
        "outputId": "316944d1-4841-4c2e-990b-5fb6d73b824e"
      },
      "execution_count": 18,
      "outputs": [
        {
          "output_type": "stream",
          "name": "stdout",
          "text": [
            "(' The summaries discuss the advancements in autonomous agents using Large '\n",
            " 'Language Models (LLMs) as their core controller, with a focus on memory '\n",
            " 'systems and efficient data processing techniques. The agent system consists '\n",
            " 'of three main components: planning, memory, and tool use.\\n'\n",
            " '\\n'\n",
            " 'Planning involves breaking down complex tasks into smaller subgoals using '\n",
            " 'techniques like Chain of Thought (CoT) and Tree of Thoughts (ToT). LLMs can '\n",
            " 'decompose tasks with simple prompting, task-specific instructions, or human '\n",
            " 'inputs. Another approach, LLM+P, relies on an external classical planner for '\n",
            " 'long-horizon planning.\\n'\n",
            " '\\n'\n",
            " 'Self-reflection is crucial for autonomous agents to improve iteratively. '\n",
            " 'ReAct integrates reasoning and acting within LLMs by extending the action '\n",
            " 'space and using dynamic memory and self-reflection capabilities. Reflexion '\n",
            " 'determines when trajectories are inefficient or contain hallucination and '\n",
            " 'uses two-shot examples to guide future changes.\\n'\n",
            " '\\n'\n",
            " 'Two methods, Chain of Hindsight (CoH) and Algorithm Distillation (AD), have '\n",
            " 'been introduced to improve the performance of language models and '\n",
            " 'reinforcement learning agents. CoH fine-tunes language models using a '\n",
            " 'sequence of past outputs and human feedback, allowing self-reflection and '\n",
            " 'better outputs. AD distills algorithms into neural networks for '\n",
            " 'reinforcement learning tasks, encapsulating the algorithm in a long '\n",
            " 'history-conditioned policy for better performance.\\n'\n",
            " '\\n'\n",
            " 'The summaries compare human memory systems and AI systems, with a focus on '\n",
            " 'memory types and efficient similarity search methods. Human memory types '\n",
            " 'include sensory memory, short-term memory (STM), and long-term memory (LTM), '\n",
            " 'and their functions and capacities are compared to AI systems. Sensory '\n",
            " 'memory is likened to learning embedding representations, STM to in-context '\n",
            " 'learning, and LTM to an external vector store.\\n'\n",
            " '\\n'\n",
            " 'The concept of maximum inner product search (MIPS) and its use in external '\n",
            " 'memory systems for AI agents is introduced, along with the use of '\n",
            " 'approximate nearest neighbors (ANN) algorithms for fast MIPS retrieval. '\n",
            " 'Various methods for efficient similarity search in high-dimensional spaces '\n",
            " 'are discussed, including Locality-Sensitive Hashing (LSH), Approximate '\n",
            " 'Nearest Neighbors Oh Yeah (ANNOY), Hierarchical Navigable Small World '\n",
            " '(HNSW), Facebook AI Similarity Search (FAISS), and Scalable Nearest '\n",
            " \"Neighbors (S').\")\n"
          ]
        }
      ]
    },
    {
      "cell_type": "code",
      "source": [],
      "metadata": {
        "id": "cmQEVkIEuCdP"
      },
      "execution_count": null,
      "outputs": []
    }
  ]
}
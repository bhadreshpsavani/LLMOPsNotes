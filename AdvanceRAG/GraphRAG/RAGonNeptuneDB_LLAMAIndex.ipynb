{
 "cells": [
  {
   "cell_type": "code",
   "execution_count": 1,
   "id": "f5f6d75d-6c96-4b97-b3ac-177d9227ba26",
   "metadata": {
    "tags": []
   },
   "outputs": [],
   "source": [
    "# Install dependencies\n",
    "!pip install -q boto3 llama-index-llms-bedrock llama-index-embeddings-bedrock llama-index-graph-stores-neptune llama-index"
   ]
  },
  {
   "cell_type": "code",
   "execution_count": 2,
   "id": "c35213d4-01ff-48fd-bff3-8bed1f3af81d",
   "metadata": {
    "tags": []
   },
   "outputs": [],
   "source": [
    "# Import features\n",
    "from llama_index.llms.bedrock import Bedrock\n",
    "from llama_index.embeddings.bedrock import BedrockEmbedding\n",
    "from llama_index.core import (\n",
    "  StorageContext,\n",
    "  SimpleDirectoryReader,\n",
    "  KnowledgeGraphIndex,\n",
    "  Settings\n",
    ")\n",
    "from llama_index.core.query_engine import KnowledgeGraphQueryEngine\n",
    "from llama_index.graph_stores.neptune import NeptuneDatabaseGraphStore\n",
    "from IPython.display import Markdown, display"
   ]
  },
  {
   "cell_type": "code",
   "execution_count": 3,
   "id": "42fefdcf-d1ff-4232-82f5-ca50490f1d73",
   "metadata": {
    "tags": []
   },
   "outputs": [],
   "source": [
    "# For the variables that follow, update the region, give Neptune notebook instance IAM role permission to invoke Bedrock using the two models specified below, and update the neptune_endpoint based on your Neptune database endpoint; also, check on AWS Bedrock console and make sure you have access to the Bedrock models\n",
    "region_name = \"us-east-1\"\n",
    "llmodel = \"mistral.mistral-7b-instruct-v0:2\"\n",
    "embed_model = \"amazon.titan-embed-text-v1\"\n",
    "neptune_endpoint = \"\" # add neptune_endpoint"
   ]
  },
  {
   "cell_type": "code",
   "execution_count": 10,
   "id": "eefad1f8-1abb-4696-a87e-e178c71ace9e",
   "metadata": {
    "tags": []
   },
   "outputs": [],
   "source": [
    "import boto3\n",
    "import os\n",
    "# Initialize boto3 client with bedrock-runtime to access bedrock related feature\n",
    "bedrock_client = boto3.client(\n",
    "    'bedrock-runtime',\n",
    "    region_name=\"us-east-1\",\n",
    "    aws_access_key_id=\"\", # add aws_access_key_id\n",
    "    aws_secret_access_key=\"\", # add aws_secret_access_key\n",
    ")"
   ]
  },
  {
   "cell_type": "code",
   "execution_count": 11,
   "id": "dea2e837-fbfc-4aab-8830-0c10fd95560e",
   "metadata": {
    "tags": []
   },
   "outputs": [],
   "source": [
    "# Define LLM\n",
    "llm = Bedrock(\n",
    "  model=llmodel,\n",
    "  region_name=region_name,\n",
    "  client=bedrock_client,\n",
    ")\n",
    "embed_model = BedrockEmbedding(\n",
    "    model=embed_model,\n",
    "    client=bedrock_client\n",
    ")\n",
    "# Settings.llm = llm\n",
    "# Settings.chunk_size = 512\n",
    "# Settings.embed_model = embed_model"
   ]
  },
  {
   "cell_type": "code",
   "execution_count": 12,
   "id": "d2527bfe-08f8-403b-82a6-59ac13a6ca4f",
   "metadata": {
    "tags": []
   },
   "outputs": [],
   "source": [
    "import shutil\n",
    "import os"
   ]
  },
  {
   "cell_type": "code",
   "execution_count": 13,
   "id": "f60895d6-9380-4613-bd02-012643739dd3",
   "metadata": {
    "tags": []
   },
   "outputs": [],
   "source": [
    "data_path = './data'\n",
    "\n",
    "if os.path.isdir(data_path):\n",
    "  shutil.rmtree(data_path)\n",
    "  os.makedirs(data_path)\n",
    "\n",
    "os.makedirs(data_path, exist_ok=True)\n",
    "\n",
    "about_newton = [\n",
    "    'Isaac Newton, known for his laws of motion and universal gravitation, laid the groundwork for classical mechanics.',\n",
    "    'Newton’s work in the 17th century provided the foundation for much of modern physics.'\n",
    "    ]\n",
    "with open(data_path + '/newton.txt', mode='w') as f:\n",
    "  f.writelines(about_newton)\n",
    "\n",
    "about_edison = [\n",
    "    'Albert Einstein developed the theory of relativity, which revolutionized theoretical physics and astronomy.',\n",
    "    'The theory of relativity was formulated in the early 20th century and has had a profound impact on our understanding of space and time.',\n",
    "    'In 1915, Einstein presented the general theory of relativity, expanding on his earlier work on special relativity.'\n",
    "]\n",
    "with open(data_path + '/edison.txt', mode='w') as f:\n",
    "  f.writelines(about_edison)\n",
    "\n",
    "documents = SimpleDirectoryReader(data_path).load_data()"
   ]
  },
  {
   "cell_type": "code",
   "execution_count": 14,
   "id": "6278f5b9-d174-4982-b47b-1da4339d84ac",
   "metadata": {
    "tags": []
   },
   "outputs": [],
   "source": [
    "# Create index in Neptune database using the test data - automated knowledge graph construction from unstructured text\n",
    "graph_store = NeptuneDatabaseGraphStore(\n",
    "    host=neptune_endpoint, port=8182, region_name=\"us-east-1\"\n",
    ")\n",
    "storage_context = StorageContext.from_defaults(graph_store=graph_store)"
   ]
  },
  {
   "cell_type": "code",
   "execution_count": 15,
   "id": "9f7fc9b8-61cb-463f-8eac-8008aa91c508",
   "metadata": {
    "tags": []
   },
   "outputs": [
    {
     "data": {
      "application/vnd.jupyter.widget-view+json": {
       "model_id": "54e1706a3cf7479686330da4d559fee7",
       "version_major": 2,
       "version_minor": 0
      },
      "text/plain": [
       "Parsing nodes:   0%|          | 0/2 [00:00<?, ?it/s]"
      ]
     },
     "metadata": {},
     "output_type": "display_data"
    },
    {
     "data": {
      "application/vnd.jupyter.widget-view+json": {
       "model_id": "2cb09f4dfea5461a941207264dcfaa17",
       "version_major": 2,
       "version_minor": 0
      },
      "text/plain": [
       "Processing nodes:   0%|          | 0/2 [00:00<?, ?it/s]"
      ]
     },
     "metadata": {},
     "output_type": "display_data"
    },
    {
     "data": {
      "application/vnd.jupyter.widget-view+json": {
       "model_id": "a1de3316adc646d9834641304e52c9de",
       "version_major": 2,
       "version_minor": 0
      },
      "text/plain": [
       "Generating embeddings:   0%|          | 0/10 [00:00<?, ?it/s]"
      ]
     },
     "metadata": {},
     "output_type": "display_data"
    },
    {
     "data": {
      "application/vnd.jupyter.widget-view+json": {
       "model_id": "965ef025e3ca4282be657ec5bd94d686",
       "version_major": 2,
       "version_minor": 0
      },
      "text/plain": [
       "Generating embeddings:   0%|          | 0/10 [00:00<?, ?it/s]"
      ]
     },
     "metadata": {},
     "output_type": "display_data"
    }
   ],
   "source": [
    "index = KnowledgeGraphIndex.from_documents(\n",
    "  documents,\n",
    "  storage_context=storage_context,\n",
    "  llm=llm,\n",
    "  show_progress=True,\n",
    "  include_embeddings=True,\n",
    "  embed_model=embed_model\n",
    ")"
   ]
  },
  {
   "cell_type": "code",
   "execution_count": 21,
   "id": "d4d3de6e-9a80-4311-9e0a-b27d42f91d0d",
   "metadata": {},
   "outputs": [],
   "source": [
    "# Query\n",
    "response = index.as_query_engine(llm=llm,).query(\n",
    "  \"How did the scientific contributions of the 17th century influence early 20th-century physics?\",\n",
    ")"
   ]
  },
  {
   "cell_type": "code",
   "execution_count": 23,
   "id": "e688f736-4d4e-4165-859d-8d3e230ba6ed",
   "metadata": {
    "tags": []
   },
   "outputs": [
    {
     "data": {
      "text/plain": [
       "' The scientific discoveries and theories developed during the 17th century laid the groundwork for significant advancements in physics during the early 20th century. The foundational work of Isaac Newton in classical mechanics paved the way for the formulation of more complex theories in later centuries. These theories, in turn, influenced and expanded upon the understanding of physics established during the 17th century. However, without directly referencing the context, it is essential to note that figures like Albert Einstein built upon the knowledge and discoveries of their predecessors to make groundbreaking contributions to the field.'"
      ]
     },
     "execution_count": 23,
     "metadata": {},
     "output_type": "execute_result"
    }
   ],
   "source": [
    "response.response"
   ]
  },
  {
   "cell_type": "code",
   "execution_count": null,
   "id": "7af189bc-22b7-45fe-8ae2-d78809e81f9d",
   "metadata": {},
   "outputs": [],
   "source": []
  }
 ],
 "metadata": {
  "kernelspec": {
   "display_name": "conda_pytorch_p310",
   "language": "python",
   "name": "conda_pytorch_p310"
  },
  "language_info": {
   "codemirror_mode": {
    "name": "ipython",
    "version": 3
   },
   "file_extension": ".py",
   "mimetype": "text/x-python",
   "name": "python",
   "nbconvert_exporter": "python",
   "pygments_lexer": "ipython3",
   "version": "3.10.14"
  }
 },
 "nbformat": 4,
 "nbformat_minor": 5
}

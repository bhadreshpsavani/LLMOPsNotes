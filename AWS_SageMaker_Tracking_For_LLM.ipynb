{
  "nbformat": 4,
  "nbformat_minor": 0,
  "metadata": {
    "colab": {
      "provenance": [],
      "authorship_tag": "ABX9TyMEOGwcvgKr2S6WeeILz3ni",
      "include_colab_link": true
    },
    "kernelspec": {
      "name": "python3",
      "display_name": "Python 3"
    },
    "language_info": {
      "name": "python"
    }
  },
  "cells": [
    {
      "cell_type": "markdown",
      "metadata": {
        "id": "view-in-github",
        "colab_type": "text"
      },
      "source": [
        "<a href=\"https://colab.research.google.com/github/bhadreshpsavani/LLMOPsNotes/blob/main/AWS_SageMaker_Tracking_For_LLM.ipynb\" target=\"_parent\"><img src=\"https://colab.research.google.com/assets/colab-badge.svg\" alt=\"Open In Colab\"/></a>"
      ]
    },
    {
      "cell_type": "markdown",
      "source": [
        "# AWS Bedrock Chat\n",
        "\n",
        "In this notebook we will explore, how we can use `BedRockChat` models to implement LLM based project\n",
        "\n",
        "I will try to produce individual AWS Componet in Each Notebook, This can be used for reference for any implementation\n",
        "\n",
        "## Installation"
      ],
      "metadata": {
        "id": "y5oSvzgs3wdJ"
      }
    },
    {
      "cell_type": "code",
      "execution_count": 1,
      "metadata": {
        "colab": {
          "base_uri": "https://localhost:8080/"
        },
        "id": "0Xs7jUmN3rNK",
        "outputId": "b16f9bdd-3af3-478d-c6c6-df194c339275"
      },
      "outputs": [
        {
          "output_type": "stream",
          "name": "stdout",
          "text": [
            "\u001b[2K     \u001b[90m━━━━━━━━━━━━━━━━━━━━━━━━━━━━━━━━━━━━━━━━\u001b[0m \u001b[32m50.4/50.4 kB\u001b[0m \u001b[31m1.7 MB/s\u001b[0m eta \u001b[36m0:00:00\u001b[0m\n",
            "\u001b[2K   \u001b[90m━━━━━━━━━━━━━━━━━━━━━━━━━━━━━━━━━━━━━━━━\u001b[0m \u001b[32m82.8/82.8 kB\u001b[0m \u001b[31m2.7 MB/s\u001b[0m eta \u001b[36m0:00:00\u001b[0m\n",
            "\u001b[2K   \u001b[90m━━━━━━━━━━━━━━━━━━━━━━━━━━━━━━━━━━━━━━━━\u001b[0m \u001b[32m2.3/2.3 MB\u001b[0m \u001b[31m34.2 MB/s\u001b[0m eta \u001b[36m0:00:00\u001b[0m\n",
            "\u001b[2K   \u001b[90m━━━━━━━━━━━━━━━━━━━━━━━━━━━━━━━━━━━━━━━━\u001b[0m \u001b[32m139.2/139.2 kB\u001b[0m \u001b[31m10.3 MB/s\u001b[0m eta \u001b[36m0:00:00\u001b[0m\n",
            "\u001b[2K   \u001b[90m━━━━━━━━━━━━━━━━━━━━━━━━━━━━━━━━━━━━━━━━\u001b[0m \u001b[32m1.5/1.5 MB\u001b[0m \u001b[31m46.8 MB/s\u001b[0m eta \u001b[36m0:00:00\u001b[0m\n",
            "\u001b[2K   \u001b[90m━━━━━━━━━━━━━━━━━━━━━━━━━━━━━━━━━━━━━━━━\u001b[0m \u001b[32m60.8/60.8 kB\u001b[0m \u001b[31m3.2 MB/s\u001b[0m eta \u001b[36m0:00:00\u001b[0m\n",
            "\u001b[2K   \u001b[90m━━━━━━━━━━━━━━━━━━━━━━━━━━━━━━━━━━━━━━━━\u001b[0m \u001b[32m12.5/12.5 MB\u001b[0m \u001b[31m29.1 MB/s\u001b[0m eta \u001b[36m0:00:00\u001b[0m\n",
            "\u001b[2K   \u001b[90m━━━━━━━━━━━━━━━━━━━━━━━━━━━━━━━━━━━━━━━━\u001b[0m \u001b[32m997.8/997.8 kB\u001b[0m \u001b[31m10.1 MB/s\u001b[0m eta \u001b[36m0:00:00\u001b[0m\n",
            "\u001b[2K   \u001b[90m━━━━━━━━━━━━━━━━━━━━━━━━━━━━━━━━━━━━━━━━\u001b[0m \u001b[32m394.9/394.9 kB\u001b[0m \u001b[31m6.0 MB/s\u001b[0m eta \u001b[36m0:00:00\u001b[0m\n",
            "\u001b[2K   \u001b[90m━━━━━━━━━━━━━━━━━━━━━━━━━━━━━━━━━━━━━━━━\u001b[0m \u001b[32m150.5/150.5 kB\u001b[0m \u001b[31m2.2 MB/s\u001b[0m eta \u001b[36m0:00:00\u001b[0m\n",
            "\u001b[2K   \u001b[90m━━━━━━━━━━━━━━━━━━━━━━━━━━━━━━━━━━━━━━━━\u001b[0m \u001b[32m82.7/82.7 kB\u001b[0m \u001b[31m2.6 MB/s\u001b[0m eta \u001b[36m0:00:00\u001b[0m\n",
            "\u001b[2K   \u001b[90m━━━━━━━━━━━━━━━━━━━━━━━━━━━━━━━━━━━━━━━━\u001b[0m \u001b[32m147.8/147.8 kB\u001b[0m \u001b[31m10.1 MB/s\u001b[0m eta \u001b[36m0:00:00\u001b[0m\n",
            "\u001b[2K   \u001b[90m━━━━━━━━━━━━━━━━━━━━━━━━━━━━━━━━━━━━━━━━\u001b[0m \u001b[32m82.1/82.1 kB\u001b[0m \u001b[31m5.2 MB/s\u001b[0m eta \u001b[36m0:00:00\u001b[0m\n",
            "\u001b[2K   \u001b[90m━━━━━━━━━━━━━━━━━━━━━━━━━━━━━━━━━━━━━━━━\u001b[0m \u001b[32m116.3/116.3 kB\u001b[0m \u001b[31m5.1 MB/s\u001b[0m eta \u001b[36m0:00:00\u001b[0m\n",
            "\u001b[2K   \u001b[90m━━━━━━━━━━━━━━━━━━━━━━━━━━━━━━━━━━━━━━━━\u001b[0m \u001b[32m76.4/76.4 kB\u001b[0m \u001b[31m4.8 MB/s\u001b[0m eta \u001b[36m0:00:00\u001b[0m\n",
            "\u001b[2K   \u001b[90m━━━━━━━━━━━━━━━━━━━━━━━━━━━━━━━━━━━━━━━━\u001b[0m \u001b[32m77.9/77.9 kB\u001b[0m \u001b[31m5.1 MB/s\u001b[0m eta \u001b[36m0:00:00\u001b[0m\n",
            "\u001b[2K   \u001b[90m━━━━━━━━━━━━━━━━━━━━━━━━━━━━━━━━━━━━━━━━\u001b[0m \u001b[32m49.3/49.3 kB\u001b[0m \u001b[31m2.4 MB/s\u001b[0m eta \u001b[36m0:00:00\u001b[0m\n",
            "\u001b[2K   \u001b[90m━━━━━━━━━━━━━━━━━━━━━━━━━━━━━━━━━━━━━━━━\u001b[0m \u001b[32m134.8/134.8 kB\u001b[0m \u001b[31m5.4 MB/s\u001b[0m eta \u001b[36m0:00:00\u001b[0m\n",
            "\u001b[2K   \u001b[90m━━━━━━━━━━━━━━━━━━━━━━━━━━━━━━━━━━━━━━━━\u001b[0m \u001b[32m141.9/141.9 kB\u001b[0m \u001b[31m6.3 MB/s\u001b[0m eta \u001b[36m0:00:00\u001b[0m\n",
            "\u001b[2K   \u001b[90m━━━━━━━━━━━━━━━━━━━━━━━━━━━━━━━━━━━━━━━━\u001b[0m \u001b[32m56.8/56.8 kB\u001b[0m \u001b[31m2.4 MB/s\u001b[0m eta \u001b[36m0:00:00\u001b[0m\n",
            "\u001b[2K   \u001b[90m━━━━━━━━━━━━━━━━━━━━━━━━━━━━━━━━━━━━━━━━\u001b[0m \u001b[32m58.3/58.3 kB\u001b[0m \u001b[31m2.3 MB/s\u001b[0m eta \u001b[36m0:00:00\u001b[0m\n",
            "\u001b[?25h"
          ]
        }
      ],
      "source": [
        "!pip install -q langchain-aws langchain-community boto3 python-dotenv sagemaker"
      ]
    },
    {
      "cell_type": "markdown",
      "source": [
        "### Get AWS Credentials and store it in .env file\n",
        "\n",
        "We will require `AWS_SECRET_ACCESS_KEY` and `AWS_ACCESS_KEY_ID` from AWS IAM section for accessing AWS bases services using Python SDK"
      ],
      "metadata": {
        "id": "5Guhi8aeKlnc"
      }
    },
    {
      "cell_type": "code",
      "source": [
        "import dotenv\n",
        "\"\"\" We need to store below access credentials in .env file stored in root filder\n",
        "AWS_SESSION_TOKEN\n",
        "AWS_SECRET_ACCESS_KEY, AWS_ACCESS_KEY_ID\n",
        "\"\"\"\n",
        "# load environment variable of aws account\n",
        "dotenv.load_dotenv()"
      ],
      "metadata": {
        "colab": {
          "base_uri": "https://localhost:8080/"
        },
        "id": "3bxZwELe4V4b",
        "outputId": "8284c449-8456-4f58-f0f5-587460e2fb81"
      },
      "execution_count": 2,
      "outputs": [
        {
          "output_type": "execute_result",
          "data": {
            "text/plain": [
              "False"
            ]
          },
          "metadata": {},
          "execution_count": 2
        }
      ]
    },
    {
      "cell_type": "code",
      "source": [
        "from google.colab import userdata"
      ],
      "metadata": {
        "id": "63P4C4YodeTW"
      },
      "execution_count": 4,
      "outputs": []
    },
    {
      "cell_type": "code",
      "source": [
        "import boto3\n",
        "import os\n",
        "from langchain_community.callbacks.sagemaker_callback import SageMakerCallbackHandler\n",
        "from langchain.agents import initialize_agent, load_tools\n",
        "from langchain.chains import LLMChain, SimpleSequentialChain\n",
        "from langchain_core.prompts import PromptTemplate\n",
        "from sagemaker.analytics import ExperimentAnalytics\n",
        "from sagemaker.experiments.run import Run\n",
        "from sagemaker.session import Session\n",
        "\n",
        "from langchain_aws import BedrockLLM"
      ],
      "metadata": {
        "id": "8lpd_oGUFnqs"
      },
      "execution_count": 35,
      "outputs": []
    },
    {
      "cell_type": "code",
      "source": [
        "\n",
        "# Initialize boto3 client with bedrock-runtime to access bedrock related feature\n",
        "bedrock_client = boto3.client(\n",
        "    'bedrock-runtime',\n",
        "    region_name=\"us-east-1\",\n",
        "    aws_access_key_id=userdata.get('AWS_ACCESS_KEY_ID'),  # Retrieve from environment variables\n",
        "    aws_secret_access_key=userdata.get('AWS_SECRET_ACCESS_KEY')  # Optional session token\n",
        ")"
      ],
      "metadata": {
        "id": "D1K4n9wGdHI4"
      },
      "execution_count": 8,
      "outputs": []
    },
    {
      "cell_type": "markdown",
      "source": [
        "## LLM Prompt Tracking"
      ],
      "metadata": {
        "id": "tQGZ4yjAd9eA"
      }
    },
    {
      "cell_type": "code",
      "source": [
        "import boto3\n",
        "\n",
        "session  = boto3.Session(\n",
        "    region_name=\"us-east-1\",\n",
        "    aws_access_key_id=userdata.get('AWS_ACCESS_KEY_ID'),  # Retrieve from environment variables\n",
        "    aws_secret_access_key=userdata.get('AWS_SECRET_ACCESS_KEY')  # Optional session token\n",
        "    )"
      ],
      "metadata": {
        "id": "AuRMMzpJe7GM"
      },
      "execution_count": 24,
      "outputs": []
    },
    {
      "cell_type": "code",
      "source": [
        "# LLM Hyperparameters\n",
        "HPARAMS = {\n",
        "    \"temperature\": 0.1,\n",
        "}\n",
        "\n",
        "# Bucket used to save prompt logs (Use `None` is used to save the default bucket or otherwise change it)\n",
        "BUCKET_NAME = \"knowlage-base\"\n",
        "\n",
        "# Experiment name\n",
        "EXPERIMENT_NAME = \"langchain-sagemaker-tracker\"\n",
        "\n",
        "# Create SageMaker Session with the given bucket\n",
        "sagemaker_session  = Session(\n",
        "    default_bucket=BUCKET_NAME,\n",
        "    boto_session=session\n",
        "    )\n"
      ],
      "metadata": {
        "id": "lQ7lfQXJMPUu"
      },
      "execution_count": 39,
      "outputs": []
    },
    {
      "cell_type": "code",
      "source": [
        "RUN_NAME = \"run-scenario-1\"\n",
        "PROMPT_TEMPLATE = \"tell me a joke about {topic}\"\n",
        "INPUT_VARIABLES = {\"topic\": \"fish\"}"
      ],
      "metadata": {
        "id": "KbZSiLvAeACs"
      },
      "execution_count": 40,
      "outputs": []
    },
    {
      "cell_type": "code",
      "source": [
        "with Run(\n",
        "    experiment_name=EXPERIMENT_NAME, run_name=RUN_NAME, sagemaker_session=sagemaker_session\n",
        ") as run:\n",
        "    # Create SageMaker Callback\n",
        "    sagemaker_callback = SageMakerCallbackHandler(run)\n",
        "\n",
        "    # Define LLM model with callback\n",
        "    llm = BedrockLLM(\n",
        "        model_id=\"amazon.titan-text-express-v1\",\n",
        "        model_kwargs=dict(temperature=0),\n",
        "        client=bedrock_client,\n",
        "        callbacks=[sagemaker_callback],\n",
        "    )\n",
        "    # Create prompt template\n",
        "    prompt = PromptTemplate.from_template(template=PROMPT_TEMPLATE)\n",
        "\n",
        "    # Create LLM Chain\n",
        "    chain = LLMChain(llm=llm, prompt=prompt, callbacks=[sagemaker_callback])\n",
        "\n",
        "    # Run chain\n",
        "    chain.run(**INPUT_VARIABLES)\n",
        "\n",
        "    # Reset the callback\n",
        "    sagemaker_callback.flush_tracker()"
      ],
      "metadata": {
        "id": "oAahqBbogteu"
      },
      "execution_count": 41,
      "outputs": []
    },
    {
      "cell_type": "markdown",
      "source": [
        "## Scenario 2 - Sequential Chain"
      ],
      "metadata": {
        "id": "TvIJ6FfmhGhY"
      }
    },
    {
      "cell_type": "code",
      "source": [
        "RUN_NAME = \"run-scenario-2\"\n",
        "\n",
        "PROMPT_TEMPLATE_1 = \"\"\"You are a playwright. Given the title of play, it is your job to write a synopsis for that title.\n",
        "Title: {title}\n",
        "Playwright: This is a synopsis for the above play:\"\"\"\n",
        "PROMPT_TEMPLATE_2 = \"\"\"You are a play critic from the New York Times. Given the synopsis of play, it is your job to write a review for that play.\n",
        "Play Synopsis: {synopsis}\n",
        "Review from a New York Times play critic of the above play:\"\"\"\n",
        "\n",
        "INPUT_VARIABLES = {\n",
        "    \"title\": \"documentary about good video games that push the boundary of game design\"\n",
        "}"
      ],
      "metadata": {
        "id": "-XPUBPjDhCyb"
      },
      "execution_count": 46,
      "outputs": []
    },
    {
      "cell_type": "code",
      "source": [
        "with Run(\n",
        "    experiment_name=EXPERIMENT_NAME, run_name=RUN_NAME, sagemaker_session=sagemaker_session\n",
        ") as run:\n",
        "    # Create SageMaker Callback\n",
        "    sagemaker_callback = SageMakerCallbackHandler(run)\n",
        "\n",
        "    # Create prompt templates for the chain\n",
        "    prompt_template1 = PromptTemplate.from_template(template=PROMPT_TEMPLATE_1)\n",
        "    prompt_template2 = PromptTemplate.from_template(template=PROMPT_TEMPLATE_2)\n",
        "\n",
        "    # Define LLM model with callback\n",
        "    llm = BedrockLLM(\n",
        "        model_id=\"amazon.titan-text-express-v1\",\n",
        "        model_kwargs=dict(temperature=0),\n",
        "        client=bedrock_client,\n",
        "        callbacks=[sagemaker_callback],\n",
        "    )\n",
        "\n",
        "    # Create chain1\n",
        "    chain1 = LLMChain(llm=llm, prompt=prompt_template1, callbacks=[sagemaker_callback])\n",
        "\n",
        "    # Create chain2\n",
        "    chain2 = LLMChain(llm=llm, prompt=prompt_template2, callbacks=[sagemaker_callback])\n",
        "\n",
        "    # Create Sequential chain\n",
        "    overall_chain = SimpleSequentialChain(\n",
        "        chains=[chain1, chain2], callbacks=[sagemaker_callback]\n",
        "    )\n",
        "\n",
        "    # Run overall sequential chain\n",
        "    overall_chain.run({\"input\": INPUT_VARIABLES})\n",
        "\n",
        "    # Reset the callback\n",
        "    sagemaker_callback.flush_tracker()"
      ],
      "metadata": {
        "id": "BHSbfuqfhJvc"
      },
      "execution_count": 49,
      "outputs": []
    },
    {
      "cell_type": "markdown",
      "source": [
        "## Scenario 3 - Agent with Tools"
      ],
      "metadata": {
        "id": "2T3-prUBhWhX"
      }
    },
    {
      "cell_type": "code",
      "source": [
        "RUN_NAME = \"run-scenario-3\"\n",
        "PROMPT_TEMPLATE = \"Who is the oldest person alive? And what is their current age raised to the power of 1.51?\""
      ],
      "metadata": {
        "id": "-Q0Fd3XUhLig"
      },
      "execution_count": 52,
      "outputs": []
    },
    {
      "cell_type": "code",
      "source": [
        "with Run(\n",
        "    experiment_name=EXPERIMENT_NAME, run_name=RUN_NAME, sagemaker_session=sagemaker_session\n",
        ") as run:\n",
        "    # Create SageMaker Callback\n",
        "    sagemaker_callback = SageMakerCallbackHandler(run)\n",
        "\n",
        "    # Define LLM model with callback\n",
        "    llm = BedrockLLM(\n",
        "        model_id=\"mistral.mistral-small-2402-v1:0\",\n",
        "        model_kwargs=dict(temperature=0),\n",
        "        client=bedrock_client,\n",
        "        callbacks=[sagemaker_callback],\n",
        "    )\n",
        "\n",
        "    # Define tools\n",
        "    tools = load_tools([ \"llm-math\"], llm=llm, callbacks=[sagemaker_callback])\n",
        "\n",
        "    # Initialize agent with all the tools\n",
        "    agent = initialize_agent(\n",
        "        tools, llm, agent=\"zero-shot-react-description\", callbacks=[sagemaker_callback]\n",
        "    )\n",
        "\n",
        "    # Run agent\n",
        "    agent.run(input=PROMPT_TEMPLATE)\n",
        "\n",
        "    # Reset the callback\n",
        "    sagemaker_callback.flush_tracker()"
      ],
      "metadata": {
        "id": "1IHA2G2shZk3"
      },
      "execution_count": 60,
      "outputs": []
    },
    {
      "cell_type": "markdown",
      "source": [
        "### Load Log Data"
      ],
      "metadata": {
        "id": "M4SCIGHokuiI"
      }
    },
    {
      "cell_type": "code",
      "source": [
        "# Load\n",
        "logs = ExperimentAnalytics(experiment_name=EXPERIMENT_NAME, sagemaker_session=sagemaker_session)\n",
        "\n",
        "# Convert as pandas dataframe\n",
        "df = logs.dataframe(force_refresh=True)\n",
        "\n",
        "print(df.shape)\n",
        "df.head()"
      ],
      "metadata": {
        "colab": {
          "base_uri": "https://localhost:8080/",
          "height": 383
        },
        "id": "sz_nj5TckTzL",
        "outputId": "cb3c1eda-96ca-430e-ccd2-ba14e10a62af"
      },
      "execution_count": 63,
      "outputs": [
        {
          "output_type": "stream",
          "name": "stdout",
          "text": [
            "(3, 58)\n"
          ]
        },
        {
          "output_type": "execute_result",
          "data": {
            "text/plain": [
              "                           TrialComponentName  \\\n",
              "0  langchain-sagemaker-tracker-run-scenario-3   \n",
              "1  langchain-sagemaker-tracker-run-scenario-2   \n",
              "2  langchain-sagemaker-tracker-run-scenario-1   \n",
              "\n",
              "                                  DisplayName agent_action_1 - MediaType  \\\n",
              "0  langchain-sagemaker-tracker-run-scenario-3           application/json   \n",
              "1  langchain-sagemaker-tracker-run-scenario-2                        NaN   \n",
              "2  langchain-sagemaker-tracker-run-scenario-1                        NaN   \n",
              "\n",
              "                              agent_action_1 - Value  \\\n",
              "0  s3://knowlage-base/trial-component-artifacts/l...   \n",
              "1                                                NaN   \n",
              "2                                                NaN   \n",
              "\n",
              "  agent_action_2 - MediaType  \\\n",
              "0           application/json   \n",
              "1                        NaN   \n",
              "2                        NaN   \n",
              "\n",
              "                              agent_action_2 - Value  \\\n",
              "0  s3://knowlage-base/trial-component-artifacts/l...   \n",
              "1                                                NaN   \n",
              "2                                                NaN   \n",
              "\n",
              "  agent_finish_1 - MediaType  \\\n",
              "0           application/json   \n",
              "1                        NaN   \n",
              "2                        NaN   \n",
              "\n",
              "                              agent_finish_1 - Value chain_end_1 - MediaType  \\\n",
              "0  s3://knowlage-base/trial-component-artifacts/l...        application/json   \n",
              "1                                                NaN        application/json   \n",
              "2                                                NaN        application/json   \n",
              "\n",
              "                                 chain_end_1 - Value  ...  \\\n",
              "0  s3://knowlage-base/trial-component-artifacts/l...  ...   \n",
              "1  s3://knowlage-base/trial-component-artifacts/l...  ...   \n",
              "2  s3://knowlage-base/trial-component-artifacts/l...  ...   \n",
              "\n",
              "  chain_start_2 - MediaType  \\\n",
              "0                       NaN   \n",
              "1          application/json   \n",
              "2                       NaN   \n",
              "\n",
              "                               chain_start_2 - Value  \\\n",
              "0                                                NaN   \n",
              "1  s3://knowlage-base/trial-component-artifacts/l...   \n",
              "2                                                NaN   \n",
              "\n",
              "  chain_start_3 - MediaType  \\\n",
              "0                       NaN   \n",
              "1          application/json   \n",
              "2                       NaN   \n",
              "\n",
              "                               chain_start_3 - Value on_text_2 - MediaType  \\\n",
              "0                                                NaN                   NaN   \n",
              "1  s3://knowlage-base/trial-component-artifacts/l...      application/json   \n",
              "2                                                NaN                   NaN   \n",
              "\n",
              "                                   on_text_2 - Value on_text_3 - MediaType  \\\n",
              "0                                                NaN                   NaN   \n",
              "1  s3://knowlage-base/trial-component-artifacts/l...      application/json   \n",
              "2                                                NaN                   NaN   \n",
              "\n",
              "                                   on_text_3 - Value on_text_4 - MediaType  \\\n",
              "0                                                NaN                   NaN   \n",
              "1  s3://knowlage-base/trial-component-artifacts/l...      application/json   \n",
              "2                                                NaN                   NaN   \n",
              "\n",
              "                                   on_text_4 - Value  \n",
              "0                                                NaN  \n",
              "1  s3://knowlage-base/trial-component-artifacts/l...  \n",
              "2                                                NaN  \n",
              "\n",
              "[3 rows x 58 columns]"
            ],
            "text/html": [
              "\n",
              "  <div id=\"df-ff10dd0e-83cc-4114-8706-01dbd73511f0\" class=\"colab-df-container\">\n",
              "    <div>\n",
              "<style scoped>\n",
              "    .dataframe tbody tr th:only-of-type {\n",
              "        vertical-align: middle;\n",
              "    }\n",
              "\n",
              "    .dataframe tbody tr th {\n",
              "        vertical-align: top;\n",
              "    }\n",
              "\n",
              "    .dataframe thead th {\n",
              "        text-align: right;\n",
              "    }\n",
              "</style>\n",
              "<table border=\"1\" class=\"dataframe\">\n",
              "  <thead>\n",
              "    <tr style=\"text-align: right;\">\n",
              "      <th></th>\n",
              "      <th>TrialComponentName</th>\n",
              "      <th>DisplayName</th>\n",
              "      <th>agent_action_1 - MediaType</th>\n",
              "      <th>agent_action_1 - Value</th>\n",
              "      <th>agent_action_2 - MediaType</th>\n",
              "      <th>agent_action_2 - Value</th>\n",
              "      <th>agent_finish_1 - MediaType</th>\n",
              "      <th>agent_finish_1 - Value</th>\n",
              "      <th>chain_end_1 - MediaType</th>\n",
              "      <th>chain_end_1 - Value</th>\n",
              "      <th>...</th>\n",
              "      <th>chain_start_2 - MediaType</th>\n",
              "      <th>chain_start_2 - Value</th>\n",
              "      <th>chain_start_3 - MediaType</th>\n",
              "      <th>chain_start_3 - Value</th>\n",
              "      <th>on_text_2 - MediaType</th>\n",
              "      <th>on_text_2 - Value</th>\n",
              "      <th>on_text_3 - MediaType</th>\n",
              "      <th>on_text_3 - Value</th>\n",
              "      <th>on_text_4 - MediaType</th>\n",
              "      <th>on_text_4 - Value</th>\n",
              "    </tr>\n",
              "  </thead>\n",
              "  <tbody>\n",
              "    <tr>\n",
              "      <th>0</th>\n",
              "      <td>langchain-sagemaker-tracker-run-scenario-3</td>\n",
              "      <td>langchain-sagemaker-tracker-run-scenario-3</td>\n",
              "      <td>application/json</td>\n",
              "      <td>s3://knowlage-base/trial-component-artifacts/l...</td>\n",
              "      <td>application/json</td>\n",
              "      <td>s3://knowlage-base/trial-component-artifacts/l...</td>\n",
              "      <td>application/json</td>\n",
              "      <td>s3://knowlage-base/trial-component-artifacts/l...</td>\n",
              "      <td>application/json</td>\n",
              "      <td>s3://knowlage-base/trial-component-artifacts/l...</td>\n",
              "      <td>...</td>\n",
              "      <td>NaN</td>\n",
              "      <td>NaN</td>\n",
              "      <td>NaN</td>\n",
              "      <td>NaN</td>\n",
              "      <td>NaN</td>\n",
              "      <td>NaN</td>\n",
              "      <td>NaN</td>\n",
              "      <td>NaN</td>\n",
              "      <td>NaN</td>\n",
              "      <td>NaN</td>\n",
              "    </tr>\n",
              "    <tr>\n",
              "      <th>1</th>\n",
              "      <td>langchain-sagemaker-tracker-run-scenario-2</td>\n",
              "      <td>langchain-sagemaker-tracker-run-scenario-2</td>\n",
              "      <td>NaN</td>\n",
              "      <td>NaN</td>\n",
              "      <td>NaN</td>\n",
              "      <td>NaN</td>\n",
              "      <td>NaN</td>\n",
              "      <td>NaN</td>\n",
              "      <td>application/json</td>\n",
              "      <td>s3://knowlage-base/trial-component-artifacts/l...</td>\n",
              "      <td>...</td>\n",
              "      <td>application/json</td>\n",
              "      <td>s3://knowlage-base/trial-component-artifacts/l...</td>\n",
              "      <td>application/json</td>\n",
              "      <td>s3://knowlage-base/trial-component-artifacts/l...</td>\n",
              "      <td>application/json</td>\n",
              "      <td>s3://knowlage-base/trial-component-artifacts/l...</td>\n",
              "      <td>application/json</td>\n",
              "      <td>s3://knowlage-base/trial-component-artifacts/l...</td>\n",
              "      <td>application/json</td>\n",
              "      <td>s3://knowlage-base/trial-component-artifacts/l...</td>\n",
              "    </tr>\n",
              "    <tr>\n",
              "      <th>2</th>\n",
              "      <td>langchain-sagemaker-tracker-run-scenario-1</td>\n",
              "      <td>langchain-sagemaker-tracker-run-scenario-1</td>\n",
              "      <td>NaN</td>\n",
              "      <td>NaN</td>\n",
              "      <td>NaN</td>\n",
              "      <td>NaN</td>\n",
              "      <td>NaN</td>\n",
              "      <td>NaN</td>\n",
              "      <td>application/json</td>\n",
              "      <td>s3://knowlage-base/trial-component-artifacts/l...</td>\n",
              "      <td>...</td>\n",
              "      <td>NaN</td>\n",
              "      <td>NaN</td>\n",
              "      <td>NaN</td>\n",
              "      <td>NaN</td>\n",
              "      <td>NaN</td>\n",
              "      <td>NaN</td>\n",
              "      <td>NaN</td>\n",
              "      <td>NaN</td>\n",
              "      <td>NaN</td>\n",
              "      <td>NaN</td>\n",
              "    </tr>\n",
              "  </tbody>\n",
              "</table>\n",
              "<p>3 rows × 58 columns</p>\n",
              "</div>\n",
              "    <div class=\"colab-df-buttons\">\n",
              "\n",
              "  <div class=\"colab-df-container\">\n",
              "    <button class=\"colab-df-convert\" onclick=\"convertToInteractive('df-ff10dd0e-83cc-4114-8706-01dbd73511f0')\"\n",
              "            title=\"Convert this dataframe to an interactive table.\"\n",
              "            style=\"display:none;\">\n",
              "\n",
              "  <svg xmlns=\"http://www.w3.org/2000/svg\" height=\"24px\" viewBox=\"0 -960 960 960\">\n",
              "    <path d=\"M120-120v-720h720v720H120Zm60-500h600v-160H180v160Zm220 220h160v-160H400v160Zm0 220h160v-160H400v160ZM180-400h160v-160H180v160Zm440 0h160v-160H620v160ZM180-180h160v-160H180v160Zm440 0h160v-160H620v160Z\"/>\n",
              "  </svg>\n",
              "    </button>\n",
              "\n",
              "  <style>\n",
              "    .colab-df-container {\n",
              "      display:flex;\n",
              "      gap: 12px;\n",
              "    }\n",
              "\n",
              "    .colab-df-convert {\n",
              "      background-color: #E8F0FE;\n",
              "      border: none;\n",
              "      border-radius: 50%;\n",
              "      cursor: pointer;\n",
              "      display: none;\n",
              "      fill: #1967D2;\n",
              "      height: 32px;\n",
              "      padding: 0 0 0 0;\n",
              "      width: 32px;\n",
              "    }\n",
              "\n",
              "    .colab-df-convert:hover {\n",
              "      background-color: #E2EBFA;\n",
              "      box-shadow: 0px 1px 2px rgba(60, 64, 67, 0.3), 0px 1px 3px 1px rgba(60, 64, 67, 0.15);\n",
              "      fill: #174EA6;\n",
              "    }\n",
              "\n",
              "    .colab-df-buttons div {\n",
              "      margin-bottom: 4px;\n",
              "    }\n",
              "\n",
              "    [theme=dark] .colab-df-convert {\n",
              "      background-color: #3B4455;\n",
              "      fill: #D2E3FC;\n",
              "    }\n",
              "\n",
              "    [theme=dark] .colab-df-convert:hover {\n",
              "      background-color: #434B5C;\n",
              "      box-shadow: 0px 1px 3px 1px rgba(0, 0, 0, 0.15);\n",
              "      filter: drop-shadow(0px 1px 2px rgba(0, 0, 0, 0.3));\n",
              "      fill: #FFFFFF;\n",
              "    }\n",
              "  </style>\n",
              "\n",
              "    <script>\n",
              "      const buttonEl =\n",
              "        document.querySelector('#df-ff10dd0e-83cc-4114-8706-01dbd73511f0 button.colab-df-convert');\n",
              "      buttonEl.style.display =\n",
              "        google.colab.kernel.accessAllowed ? 'block' : 'none';\n",
              "\n",
              "      async function convertToInteractive(key) {\n",
              "        const element = document.querySelector('#df-ff10dd0e-83cc-4114-8706-01dbd73511f0');\n",
              "        const dataTable =\n",
              "          await google.colab.kernel.invokeFunction('convertToInteractive',\n",
              "                                                    [key], {});\n",
              "        if (!dataTable) return;\n",
              "\n",
              "        const docLinkHtml = 'Like what you see? Visit the ' +\n",
              "          '<a target=\"_blank\" href=https://colab.research.google.com/notebooks/data_table.ipynb>data table notebook</a>'\n",
              "          + ' to learn more about interactive tables.';\n",
              "        element.innerHTML = '';\n",
              "        dataTable['output_type'] = 'display_data';\n",
              "        await google.colab.output.renderOutput(dataTable, element);\n",
              "        const docLink = document.createElement('div');\n",
              "        docLink.innerHTML = docLinkHtml;\n",
              "        element.appendChild(docLink);\n",
              "      }\n",
              "    </script>\n",
              "  </div>\n",
              "\n",
              "\n",
              "<div id=\"df-8fa36150-254a-48bf-8e67-921b6458a8ee\">\n",
              "  <button class=\"colab-df-quickchart\" onclick=\"quickchart('df-8fa36150-254a-48bf-8e67-921b6458a8ee')\"\n",
              "            title=\"Suggest charts\"\n",
              "            style=\"display:none;\">\n",
              "\n",
              "<svg xmlns=\"http://www.w3.org/2000/svg\" height=\"24px\"viewBox=\"0 0 24 24\"\n",
              "     width=\"24px\">\n",
              "    <g>\n",
              "        <path d=\"M19 3H5c-1.1 0-2 .9-2 2v14c0 1.1.9 2 2 2h14c1.1 0 2-.9 2-2V5c0-1.1-.9-2-2-2zM9 17H7v-7h2v7zm4 0h-2V7h2v10zm4 0h-2v-4h2v4z\"/>\n",
              "    </g>\n",
              "</svg>\n",
              "  </button>\n",
              "\n",
              "<style>\n",
              "  .colab-df-quickchart {\n",
              "      --bg-color: #E8F0FE;\n",
              "      --fill-color: #1967D2;\n",
              "      --hover-bg-color: #E2EBFA;\n",
              "      --hover-fill-color: #174EA6;\n",
              "      --disabled-fill-color: #AAA;\n",
              "      --disabled-bg-color: #DDD;\n",
              "  }\n",
              "\n",
              "  [theme=dark] .colab-df-quickchart {\n",
              "      --bg-color: #3B4455;\n",
              "      --fill-color: #D2E3FC;\n",
              "      --hover-bg-color: #434B5C;\n",
              "      --hover-fill-color: #FFFFFF;\n",
              "      --disabled-bg-color: #3B4455;\n",
              "      --disabled-fill-color: #666;\n",
              "  }\n",
              "\n",
              "  .colab-df-quickchart {\n",
              "    background-color: var(--bg-color);\n",
              "    border: none;\n",
              "    border-radius: 50%;\n",
              "    cursor: pointer;\n",
              "    display: none;\n",
              "    fill: var(--fill-color);\n",
              "    height: 32px;\n",
              "    padding: 0;\n",
              "    width: 32px;\n",
              "  }\n",
              "\n",
              "  .colab-df-quickchart:hover {\n",
              "    background-color: var(--hover-bg-color);\n",
              "    box-shadow: 0 1px 2px rgba(60, 64, 67, 0.3), 0 1px 3px 1px rgba(60, 64, 67, 0.15);\n",
              "    fill: var(--button-hover-fill-color);\n",
              "  }\n",
              "\n",
              "  .colab-df-quickchart-complete:disabled,\n",
              "  .colab-df-quickchart-complete:disabled:hover {\n",
              "    background-color: var(--disabled-bg-color);\n",
              "    fill: var(--disabled-fill-color);\n",
              "    box-shadow: none;\n",
              "  }\n",
              "\n",
              "  .colab-df-spinner {\n",
              "    border: 2px solid var(--fill-color);\n",
              "    border-color: transparent;\n",
              "    border-bottom-color: var(--fill-color);\n",
              "    animation:\n",
              "      spin 1s steps(1) infinite;\n",
              "  }\n",
              "\n",
              "  @keyframes spin {\n",
              "    0% {\n",
              "      border-color: transparent;\n",
              "      border-bottom-color: var(--fill-color);\n",
              "      border-left-color: var(--fill-color);\n",
              "    }\n",
              "    20% {\n",
              "      border-color: transparent;\n",
              "      border-left-color: var(--fill-color);\n",
              "      border-top-color: var(--fill-color);\n",
              "    }\n",
              "    30% {\n",
              "      border-color: transparent;\n",
              "      border-left-color: var(--fill-color);\n",
              "      border-top-color: var(--fill-color);\n",
              "      border-right-color: var(--fill-color);\n",
              "    }\n",
              "    40% {\n",
              "      border-color: transparent;\n",
              "      border-right-color: var(--fill-color);\n",
              "      border-top-color: var(--fill-color);\n",
              "    }\n",
              "    60% {\n",
              "      border-color: transparent;\n",
              "      border-right-color: var(--fill-color);\n",
              "    }\n",
              "    80% {\n",
              "      border-color: transparent;\n",
              "      border-right-color: var(--fill-color);\n",
              "      border-bottom-color: var(--fill-color);\n",
              "    }\n",
              "    90% {\n",
              "      border-color: transparent;\n",
              "      border-bottom-color: var(--fill-color);\n",
              "    }\n",
              "  }\n",
              "</style>\n",
              "\n",
              "  <script>\n",
              "    async function quickchart(key) {\n",
              "      const quickchartButtonEl =\n",
              "        document.querySelector('#' + key + ' button');\n",
              "      quickchartButtonEl.disabled = true;  // To prevent multiple clicks.\n",
              "      quickchartButtonEl.classList.add('colab-df-spinner');\n",
              "      try {\n",
              "        const charts = await google.colab.kernel.invokeFunction(\n",
              "            'suggestCharts', [key], {});\n",
              "      } catch (error) {\n",
              "        console.error('Error during call to suggestCharts:', error);\n",
              "      }\n",
              "      quickchartButtonEl.classList.remove('colab-df-spinner');\n",
              "      quickchartButtonEl.classList.add('colab-df-quickchart-complete');\n",
              "    }\n",
              "    (() => {\n",
              "      let quickchartButtonEl =\n",
              "        document.querySelector('#df-8fa36150-254a-48bf-8e67-921b6458a8ee button');\n",
              "      quickchartButtonEl.style.display =\n",
              "        google.colab.kernel.accessAllowed ? 'block' : 'none';\n",
              "    })();\n",
              "  </script>\n",
              "</div>\n",
              "\n",
              "    </div>\n",
              "  </div>\n"
            ],
            "application/vnd.google.colaboratory.intrinsic+json": {
              "type": "dataframe",
              "variable_name": "df"
            }
          },
          "metadata": {},
          "execution_count": 63
        }
      ]
    },
    {
      "cell_type": "code",
      "source": [],
      "metadata": {
        "id": "yvYibUqqnS1I"
      },
      "execution_count": null,
      "outputs": []
    }
  ]
}